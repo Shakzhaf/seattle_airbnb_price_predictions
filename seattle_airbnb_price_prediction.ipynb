{
  "nbformat": 4,
  "nbformat_minor": 0,
  "metadata": {
    "colab": {
      "name": "seattle_airbnb_price_prediction.ipynb",
      "provenance": [],
      "collapsed_sections": [],
      "toc_visible": true
    },
    "kernelspec": {
      "name": "python3",
      "display_name": "Python 3"
    }
  },
  "cells": [
    {
      "cell_type": "code",
      "metadata": {
        "id": "L-DtlMawFcYT"
      },
      "source": [
        "#import required libraries\r\n",
        "import pandas as pd\r\n",
        "import numpy as np\r\n",
        "from collections import Counter\r\n",
        "import seaborn as sns\r\n",
        "from scipy.stats import norm\r\n",
        "import matplotlib\r\n",
        "import matplotlib.pyplot as plt\r\n",
        "from sklearn import preprocessing\r\n",
        "matplotlib.style.use('ggplot')"
      ],
      "execution_count": 1,
      "outputs": []
    },
    {
      "cell_type": "code",
      "metadata": {
        "colab": {
          "base_uri": "https://localhost:8080/"
        },
        "id": "Pv0nAbuGFydQ",
        "outputId": "80f3c419-41ac-47e2-a99f-742445575c29"
      },
      "source": [
        "#import nltk libraries\r\n",
        "import nltk\r\n",
        "nltk.download('stopwords')\r\n",
        "nltk.download('punkt')\r\n",
        "nltk.download('wordnet')\r\n",
        "from nltk.corpus import stopwords\r\n",
        "from nltk.tokenize import word_tokenize"
      ],
      "execution_count": 2,
      "outputs": [
        {
          "output_type": "stream",
          "text": [
            "[nltk_data] Downloading package stopwords to /root/nltk_data...\n",
            "[nltk_data]   Package stopwords is already up-to-date!\n",
            "[nltk_data] Downloading package punkt to /root/nltk_data...\n",
            "[nltk_data]   Package punkt is already up-to-date!\n",
            "[nltk_data] Downloading package wordnet to /root/nltk_data...\n",
            "[nltk_data]   Package wordnet is already up-to-date!\n"
          ],
          "name": "stdout"
        }
      ]
    },
    {
      "cell_type": "code",
      "metadata": {
        "id": "kpn3U7S5RBBk"
      },
      "source": [
        "from sklearn.model_selection import train_test_split\r\n",
        "from sklearn.model_selection import KFold\r\n",
        "from sklearn.model_selection import GridSearchCV\r\n",
        "from sklearn.ensemble import ExtraTreesClassifier\r\n",
        "\r\n",
        "from sklearn.linear_model import LinearRegression\r\n",
        "from sklearn.preprocessing import PolynomialFeatures\r\n",
        "from sklearn.linear_model import Ridge\r\n",
        "from sklearn.linear_model import Lasso\r\n",
        "from sklearn.linear_model import ElasticNet\r\n",
        "\r\n",
        "from sklearn import metrics\r\n",
        "from sklearn.metrics import mean_squared_error\r\n",
        "from sklearn.metrics import mean_absolute_error\r\n",
        "from math import sqrt\r\n",
        "from sklearn.metrics import r2_score"
      ],
      "execution_count": 3,
      "outputs": []
    },
    {
      "cell_type": "code",
      "metadata": {
        "id": "iFnEHIG6INr5"
      },
      "source": [
        "#Load the Data\r\n",
        "df_train=pd.read_csv('/content/price_train.csv')\r\n",
        "df_test = pd.read_csv('/content/price_test.csv')\r\n",
        "data = df_test"
      ],
      "execution_count": 4,
      "outputs": []
    },
    {
      "cell_type": "code",
      "metadata": {
        "id": "qg731VD-O84k"
      },
      "source": [
        "df_train['is_train'] = True\r\n",
        "# df_test = pd.read_csv('/content/price_test.csv')\r\n",
        "df_test['is_train'] = False"
      ],
      "execution_count": 5,
      "outputs": []
    },
    {
      "cell_type": "code",
      "metadata": {
        "id": "zw4J8ZDwUuGN"
      },
      "source": [
        "#There is aa row where the price of a room is 0. Let us consider it as dirty data\r\n",
        "df_train =df_train[df_train['bedrooms']!=0].dropna(axis = 0)\r\n",
        "df_train =df_train[df_train['bathrooms']!=0].dropna(axis = 0)\r\n",
        "df_train =df_train[df_train['accommodates']!=0].dropna(axis = 0)\r\n",
        "df_train =df_train[df_train['price']!=0].dropna(axis = 0)"
      ],
      "execution_count": 6,
      "outputs": []
    },
    {
      "cell_type": "code",
      "metadata": {
        "id": "lYeJ12S3A8D6"
      },
      "source": [
        "frames = [df_train, df_test]\r\n",
        "df = pd.concat(frames, axis=0, ignore_index=True)"
      ],
      "execution_count": 7,
      "outputs": []
    },
    {
      "cell_type": "code",
      "metadata": {
        "colab": {
          "base_uri": "https://localhost:8080/",
          "height": 316
        },
        "id": "FNCXrvUtIQxi",
        "outputId": "619803df-de96-4886-f645-9ce85832930f"
      },
      "source": [
        "df.tail(5)"
      ],
      "execution_count": 8,
      "outputs": [
        {
          "output_type": "execute_result",
          "data": {
            "text/html": [
              "<div>\n",
              "<style scoped>\n",
              "    .dataframe tbody tr th:only-of-type {\n",
              "        vertical-align: middle;\n",
              "    }\n",
              "\n",
              "    .dataframe tbody tr th {\n",
              "        vertical-align: top;\n",
              "    }\n",
              "\n",
              "    .dataframe thead th {\n",
              "        text-align: right;\n",
              "    }\n",
              "</style>\n",
              "<table border=\"1\" class=\"dataframe\">\n",
              "  <thead>\n",
              "    <tr style=\"text-align: right;\">\n",
              "      <th></th>\n",
              "      <th>X1</th>\n",
              "      <th>id</th>\n",
              "      <th>host_is_superhost</th>\n",
              "      <th>host_response_rate</th>\n",
              "      <th>host_response_time</th>\n",
              "      <th>host_listings_count</th>\n",
              "      <th>host_identity_verified</th>\n",
              "      <th>accommodates</th>\n",
              "      <th>neighbourhood_group_cleansed</th>\n",
              "      <th>property_type</th>\n",
              "      <th>room_type</th>\n",
              "      <th>latitude</th>\n",
              "      <th>longitude</th>\n",
              "      <th>guests_included</th>\n",
              "      <th>bathrooms</th>\n",
              "      <th>bedrooms</th>\n",
              "      <th>beds</th>\n",
              "      <th>bed_type</th>\n",
              "      <th>amenities</th>\n",
              "      <th>cleaning_fee</th>\n",
              "      <th>minimum_nights</th>\n",
              "      <th>maximum_nights</th>\n",
              "      <th>instant_bookable</th>\n",
              "      <th>cancellation_policy</th>\n",
              "      <th>price</th>\n",
              "      <th>is_train</th>\n",
              "    </tr>\n",
              "  </thead>\n",
              "  <tbody>\n",
              "    <tr>\n",
              "      <th>4744</th>\n",
              "      <td>4349</td>\n",
              "      <td>19350610</td>\n",
              "      <td>False</td>\n",
              "      <td>92%</td>\n",
              "      <td>within an hour</td>\n",
              "      <td>51</td>\n",
              "      <td>True</td>\n",
              "      <td>3</td>\n",
              "      <td>University District</td>\n",
              "      <td>Apartment</td>\n",
              "      <td>Entire home/apt</td>\n",
              "      <td>47.658539</td>\n",
              "      <td>-122.316761</td>\n",
              "      <td>1</td>\n",
              "      <td>1.0</td>\n",
              "      <td>1</td>\n",
              "      <td>1</td>\n",
              "      <td>Real Bed</td>\n",
              "      <td>{TV,Wifi,Kitchen,\"Free parking on premises\",\"P...</td>\n",
              "      <td>$60.00</td>\n",
              "      <td>2</td>\n",
              "      <td>1125</td>\n",
              "      <td>False</td>\n",
              "      <td>moderate</td>\n",
              "      <td>NaN</td>\n",
              "      <td>False</td>\n",
              "    </tr>\n",
              "    <tr>\n",
              "      <th>4745</th>\n",
              "      <td>1580</td>\n",
              "      <td>7886656</td>\n",
              "      <td>True</td>\n",
              "      <td>100%</td>\n",
              "      <td>within an hour</td>\n",
              "      <td>2</td>\n",
              "      <td>True</td>\n",
              "      <td>4</td>\n",
              "      <td>West Seattle</td>\n",
              "      <td>Apartment</td>\n",
              "      <td>Entire home/apt</td>\n",
              "      <td>47.559256</td>\n",
              "      <td>-122.384556</td>\n",
              "      <td>1</td>\n",
              "      <td>1.0</td>\n",
              "      <td>2</td>\n",
              "      <td>2</td>\n",
              "      <td>Real Bed</td>\n",
              "      <td>{TV,\"Cable TV\",Internet,Wifi,\"Wheelchair acces...</td>\n",
              "      <td>$50.00</td>\n",
              "      <td>2</td>\n",
              "      <td>29</td>\n",
              "      <td>True</td>\n",
              "      <td>moderate</td>\n",
              "      <td>NaN</td>\n",
              "      <td>False</td>\n",
              "    </tr>\n",
              "    <tr>\n",
              "      <th>4746</th>\n",
              "      <td>679</td>\n",
              "      <td>3535171</td>\n",
              "      <td>True</td>\n",
              "      <td>100%</td>\n",
              "      <td>within an hour</td>\n",
              "      <td>2</td>\n",
              "      <td>True</td>\n",
              "      <td>2</td>\n",
              "      <td>Other neighborhoods</td>\n",
              "      <td>House</td>\n",
              "      <td>Private room</td>\n",
              "      <td>47.687966</td>\n",
              "      <td>-122.352905</td>\n",
              "      <td>1</td>\n",
              "      <td>1.0</td>\n",
              "      <td>1</td>\n",
              "      <td>1</td>\n",
              "      <td>Real Bed</td>\n",
              "      <td>{TV,Internet,Wifi,\"Pets live on this property\"...</td>\n",
              "      <td>$25.00</td>\n",
              "      <td>1</td>\n",
              "      <td>29</td>\n",
              "      <td>False</td>\n",
              "      <td>strict_14_with_grace_period</td>\n",
              "      <td>NaN</td>\n",
              "      <td>False</td>\n",
              "    </tr>\n",
              "    <tr>\n",
              "      <th>4747</th>\n",
              "      <td>7360</td>\n",
              "      <td>27930170</td>\n",
              "      <td>False</td>\n",
              "      <td>100%</td>\n",
              "      <td>within an hour</td>\n",
              "      <td>1</td>\n",
              "      <td>False</td>\n",
              "      <td>4</td>\n",
              "      <td>Central Area</td>\n",
              "      <td>Guest suite</td>\n",
              "      <td>Entire home/apt</td>\n",
              "      <td>47.615843</td>\n",
              "      <td>-122.299203</td>\n",
              "      <td>2</td>\n",
              "      <td>1.0</td>\n",
              "      <td>1</td>\n",
              "      <td>2</td>\n",
              "      <td>Real Bed</td>\n",
              "      <td>{Wifi,Kitchen,\"Free parking on premises\",\"Free...</td>\n",
              "      <td>$75.00</td>\n",
              "      <td>3</td>\n",
              "      <td>1125</td>\n",
              "      <td>True</td>\n",
              "      <td>strict_14_with_grace_period</td>\n",
              "      <td>NaN</td>\n",
              "      <td>False</td>\n",
              "    </tr>\n",
              "    <tr>\n",
              "      <th>4748</th>\n",
              "      <td>4685</td>\n",
              "      <td>20256234</td>\n",
              "      <td>True</td>\n",
              "      <td>100%</td>\n",
              "      <td>within an hour</td>\n",
              "      <td>2</td>\n",
              "      <td>False</td>\n",
              "      <td>6</td>\n",
              "      <td>Northgate</td>\n",
              "      <td>House</td>\n",
              "      <td>Entire home/apt</td>\n",
              "      <td>47.730638</td>\n",
              "      <td>-122.329604</td>\n",
              "      <td>4</td>\n",
              "      <td>2.0</td>\n",
              "      <td>3</td>\n",
              "      <td>3</td>\n",
              "      <td>Real Bed</td>\n",
              "      <td>{TV,\"Cable TV\",Wifi,\"Air conditioning\",Kitchen...</td>\n",
              "      <td>$100.00</td>\n",
              "      <td>3</td>\n",
              "      <td>1125</td>\n",
              "      <td>True</td>\n",
              "      <td>strict_14_with_grace_period</td>\n",
              "      <td>NaN</td>\n",
              "      <td>False</td>\n",
              "    </tr>\n",
              "  </tbody>\n",
              "</table>\n",
              "</div>"
            ],
            "text/plain": [
              "        X1        id  ...  price is_train\n",
              "4744  4349  19350610  ...    NaN    False\n",
              "4745  1580   7886656  ...    NaN    False\n",
              "4746   679   3535171  ...    NaN    False\n",
              "4747  7360  27930170  ...    NaN    False\n",
              "4748  4685  20256234  ...    NaN    False\n",
              "\n",
              "[5 rows x 26 columns]"
            ]
          },
          "metadata": {
            "tags": []
          },
          "execution_count": 8
        }
      ]
    },
    {
      "cell_type": "code",
      "metadata": {
        "colab": {
          "base_uri": "https://localhost:8080/"
        },
        "id": "AErxVftVFJc0",
        "outputId": "443dbf8c-3101-42ad-80a2-f97f949ae66a"
      },
      "source": [
        "df.shape"
      ],
      "execution_count": 9,
      "outputs": [
        {
          "output_type": "execute_result",
          "data": {
            "text/plain": [
              "(4749, 26)"
            ]
          },
          "metadata": {
            "tags": []
          },
          "execution_count": 9
        }
      ]
    },
    {
      "cell_type": "markdown",
      "metadata": {
        "id": "PypkcoAUJZeO"
      },
      "source": [
        "# Understand the Problem Statement\r\n",
        "To work on the following data we have tooo understand the following\r\n",
        "- What data do we have?\r\n",
        "- What missing values do we have, if any, how do we deal with them? Upon considering the misssing values we can consider the following:\r\n",
        " - Reform the information and imput missing values.\r\n",
        " - Delete the data tht might not be needed.\r\n",
        "\r\n",
        "# Acknowledgement\r\n",
        "The data can be found by clinking <a href=\"https://drive.google.com/file/d/19Le60dm7hz7zy72Oc3vPiN11n71ISi3z/view?usp=sharing\">here</a>\r\n",
        "\r\n",
        "\r\n"
      ]
    },
    {
      "cell_type": "code",
      "metadata": {
        "colab": {
          "base_uri": "https://localhost:8080/"
        },
        "id": "gAlmZNu-areV",
        "outputId": "df04cf6c-8434-4662-a5df-08cdb3e0cbd2"
      },
      "source": [
        "df.columns"
      ],
      "execution_count": 10,
      "outputs": [
        {
          "output_type": "execute_result",
          "data": {
            "text/plain": [
              "Index(['X1', 'id', 'host_is_superhost', 'host_response_rate',\n",
              "       'host_response_time', 'host_listings_count', 'host_identity_verified',\n",
              "       'accommodates', 'neighbourhood_group_cleansed', 'property_type',\n",
              "       'room_type', 'latitude', 'longitude', 'guests_included', 'bathrooms',\n",
              "       'bedrooms', 'beds', 'bed_type', 'amenities', 'cleaning_fee',\n",
              "       'minimum_nights', 'maximum_nights', 'instant_bookable',\n",
              "       'cancellation_policy', 'price', 'is_train'],\n",
              "      dtype='object')"
            ]
          },
          "metadata": {
            "tags": []
          },
          "execution_count": 10
        }
      ]
    },
    {
      "cell_type": "code",
      "metadata": {
        "colab": {
          "base_uri": "https://localhost:8080/",
          "height": 304
        },
        "id": "YswePl9ja3iC",
        "outputId": "b03e9799-1fc2-49e5-8098-752902c4672d"
      },
      "source": [
        "df.describe()"
      ],
      "execution_count": 11,
      "outputs": [
        {
          "output_type": "execute_result",
          "data": {
            "text/html": [
              "<div>\n",
              "<style scoped>\n",
              "    .dataframe tbody tr th:only-of-type {\n",
              "        vertical-align: middle;\n",
              "    }\n",
              "\n",
              "    .dataframe tbody tr th {\n",
              "        vertical-align: top;\n",
              "    }\n",
              "\n",
              "    .dataframe thead th {\n",
              "        text-align: right;\n",
              "    }\n",
              "</style>\n",
              "<table border=\"1\" class=\"dataframe\">\n",
              "  <thead>\n",
              "    <tr style=\"text-align: right;\">\n",
              "      <th></th>\n",
              "      <th>X1</th>\n",
              "      <th>id</th>\n",
              "      <th>host_listings_count</th>\n",
              "      <th>accommodates</th>\n",
              "      <th>latitude</th>\n",
              "      <th>longitude</th>\n",
              "      <th>guests_included</th>\n",
              "      <th>bathrooms</th>\n",
              "      <th>bedrooms</th>\n",
              "      <th>beds</th>\n",
              "      <th>minimum_nights</th>\n",
              "      <th>maximum_nights</th>\n",
              "    </tr>\n",
              "  </thead>\n",
              "  <tbody>\n",
              "    <tr>\n",
              "      <th>count</th>\n",
              "      <td>4749.000000</td>\n",
              "      <td>4.749000e+03</td>\n",
              "      <td>4749.000000</td>\n",
              "      <td>4749.000000</td>\n",
              "      <td>4749.000000</td>\n",
              "      <td>4749.000000</td>\n",
              "      <td>4749.000000</td>\n",
              "      <td>4749.000000</td>\n",
              "      <td>4749.000000</td>\n",
              "      <td>4749.000000</td>\n",
              "      <td>4749.000000</td>\n",
              "      <td>4749.000000</td>\n",
              "    </tr>\n",
              "    <tr>\n",
              "      <th>mean</th>\n",
              "      <td>4426.145083</td>\n",
              "      <td>1.815911e+07</td>\n",
              "      <td>64.691725</td>\n",
              "      <td>3.857233</td>\n",
              "      <td>47.624821</td>\n",
              "      <td>-122.334132</td>\n",
              "      <td>2.152664</td>\n",
              "      <td>1.329964</td>\n",
              "      <td>1.506633</td>\n",
              "      <td>2.027374</td>\n",
              "      <td>3.333123</td>\n",
              "      <td>594.172247</td>\n",
              "    </tr>\n",
              "    <tr>\n",
              "      <th>std</th>\n",
              "      <td>2499.284609</td>\n",
              "      <td>8.976445e+06</td>\n",
              "      <td>201.814363</td>\n",
              "      <td>2.454867</td>\n",
              "      <td>0.045847</td>\n",
              "      <td>0.031865</td>\n",
              "      <td>1.836878</td>\n",
              "      <td>0.659795</td>\n",
              "      <td>0.980329</td>\n",
              "      <td>1.559305</td>\n",
              "      <td>9.526567</td>\n",
              "      <td>546.624819</td>\n",
              "    </tr>\n",
              "    <tr>\n",
              "      <th>min</th>\n",
              "      <td>0.000000</td>\n",
              "      <td>2.318000e+03</td>\n",
              "      <td>0.000000</td>\n",
              "      <td>1.000000</td>\n",
              "      <td>47.496037</td>\n",
              "      <td>-122.419637</td>\n",
              "      <td>1.000000</td>\n",
              "      <td>0.000000</td>\n",
              "      <td>0.000000</td>\n",
              "      <td>0.000000</td>\n",
              "      <td>1.000000</td>\n",
              "      <td>1.000000</td>\n",
              "    </tr>\n",
              "    <tr>\n",
              "      <th>25%</th>\n",
              "      <td>2229.000000</td>\n",
              "      <td>1.139268e+07</td>\n",
              "      <td>1.000000</td>\n",
              "      <td>2.000000</td>\n",
              "      <td>47.604842</td>\n",
              "      <td>-122.354173</td>\n",
              "      <td>1.000000</td>\n",
              "      <td>1.000000</td>\n",
              "      <td>1.000000</td>\n",
              "      <td>1.000000</td>\n",
              "      <td>1.000000</td>\n",
              "      <td>30.000000</td>\n",
              "    </tr>\n",
              "    <tr>\n",
              "      <th>50%</th>\n",
              "      <td>4603.000000</td>\n",
              "      <td>2.003153e+07</td>\n",
              "      <td>2.000000</td>\n",
              "      <td>3.000000</td>\n",
              "      <td>47.621092</td>\n",
              "      <td>-122.332824</td>\n",
              "      <td>2.000000</td>\n",
              "      <td>1.000000</td>\n",
              "      <td>1.000000</td>\n",
              "      <td>2.000000</td>\n",
              "      <td>2.000000</td>\n",
              "      <td>365.000000</td>\n",
              "    </tr>\n",
              "    <tr>\n",
              "      <th>75%</th>\n",
              "      <td>6609.000000</td>\n",
              "      <td>2.520392e+07</td>\n",
              "      <td>9.000000</td>\n",
              "      <td>5.000000</td>\n",
              "      <td>47.659006</td>\n",
              "      <td>-122.312058</td>\n",
              "      <td>2.000000</td>\n",
              "      <td>1.500000</td>\n",
              "      <td>2.000000</td>\n",
              "      <td>2.000000</td>\n",
              "      <td>2.000000</td>\n",
              "      <td>1125.000000</td>\n",
              "    </tr>\n",
              "    <tr>\n",
              "      <th>max</th>\n",
              "      <td>8456.000000</td>\n",
              "      <td>3.223951e+07</td>\n",
              "      <td>1596.000000</td>\n",
              "      <td>28.000000</td>\n",
              "      <td>47.733955</td>\n",
              "      <td>-122.232314</td>\n",
              "      <td>16.000000</td>\n",
              "      <td>8.000000</td>\n",
              "      <td>8.000000</td>\n",
              "      <td>20.000000</td>\n",
              "      <td>330.000000</td>\n",
              "      <td>10000.000000</td>\n",
              "    </tr>\n",
              "  </tbody>\n",
              "</table>\n",
              "</div>"
            ],
            "text/plain": [
              "                X1            id  ...  minimum_nights  maximum_nights\n",
              "count  4749.000000  4.749000e+03  ...     4749.000000     4749.000000\n",
              "mean   4426.145083  1.815911e+07  ...        3.333123      594.172247\n",
              "std    2499.284609  8.976445e+06  ...        9.526567      546.624819\n",
              "min       0.000000  2.318000e+03  ...        1.000000        1.000000\n",
              "25%    2229.000000  1.139268e+07  ...        1.000000       30.000000\n",
              "50%    4603.000000  2.003153e+07  ...        2.000000      365.000000\n",
              "75%    6609.000000  2.520392e+07  ...        2.000000     1125.000000\n",
              "max    8456.000000  3.223951e+07  ...      330.000000    10000.000000\n",
              "\n",
              "[8 rows x 12 columns]"
            ]
          },
          "metadata": {
            "tags": []
          },
          "execution_count": 11
        }
      ]
    },
    {
      "cell_type": "code",
      "metadata": {
        "colab": {
          "base_uri": "https://localhost:8080/"
        },
        "id": "ukE2tSYZbRjo",
        "outputId": "3078ac54-90fe-4fc2-9645-6772c1ad1c40"
      },
      "source": [
        "df.isnull().sum()"
      ],
      "execution_count": 12,
      "outputs": [
        {
          "output_type": "execute_result",
          "data": {
            "text/plain": [
              "X1                                 0\n",
              "id                                 0\n",
              "host_is_superhost                  0\n",
              "host_response_rate                 0\n",
              "host_response_time                 0\n",
              "host_listings_count                0\n",
              "host_identity_verified             0\n",
              "accommodates                       0\n",
              "neighbourhood_group_cleansed       0\n",
              "property_type                      0\n",
              "room_type                          0\n",
              "latitude                           0\n",
              "longitude                          0\n",
              "guests_included                    0\n",
              "bathrooms                          0\n",
              "bedrooms                           0\n",
              "beds                               0\n",
              "bed_type                           0\n",
              "amenities                          0\n",
              "cleaning_fee                       0\n",
              "minimum_nights                     0\n",
              "maximum_nights                     0\n",
              "instant_bookable                   0\n",
              "cancellation_policy                0\n",
              "price                           1734\n",
              "is_train                           0\n",
              "dtype: int64"
            ]
          },
          "metadata": {
            "tags": []
          },
          "execution_count": 12
        }
      ]
    },
    {
      "cell_type": "markdown",
      "metadata": {
        "id": "MXiDnPHecnZE"
      },
      "source": [
        "##Cleaning the data\r\n",
        "The first task is to clean the data. The steps followed in cleaning data are:\r\n",
        "\r\n",
        "- Replace NaN values with 0 (But in the above data we havent found null values)\r\n",
        "- Converting prices to float (Remove the dollar signs)\r\n"
      ]
    },
    {
      "cell_type": "code",
      "metadata": {
        "id": "dNvYnzRPcl1v",
        "colab": {
          "base_uri": "https://localhost:8080/"
        },
        "outputId": "e7870653-867b-4ab5-b6c6-2ae435b30575"
      },
      "source": [
        "#Extracting price from the table\r\n",
        "df['price'] = df['price'].str.replace(',', '')\r\n",
        "df['price'] = df['price'].str.replace('$', '')\r\n",
        "df['price'] = df['price'].astype(float)\r\n",
        "\r\n",
        "#Extracting host_response_rate from the table\r\n",
        "host_response_rate = df['host_response_rate']\r\n",
        "host_response_rates=[]\r\n",
        "\r\n",
        "#clean the data to make it float\r\n",
        "for p in host_response_rate:\r\n",
        "    p=float(p[:-1].replace(',',''))\r\n",
        "    host_response_rates.append(p)\r\n",
        "\r\n",
        "#replace the host_response_rate column with the new column\r\n",
        "df['host_response_rate']=host_response_rates\r\n",
        "\r\n",
        "\r\n",
        "\r\n",
        "#Extracting cleaning_fee from the table\r\n",
        "df['cleaning_fee'] = df['cleaning_fee'].str.replace(',', '')\r\n",
        "df['cleaning_fee'] = df['cleaning_fee'].str.replace('$', '')\r\n",
        "df['cleaning_fee'] = df['cleaning_fee'].astype(float)\r\n",
        "\r\n",
        "#Convert True and False Values Values to 0 and 1\r\n",
        "(df['host_is_superhost'] == 'TRUE').astype(int)\r\n",
        "(df['host_identity_verified'] == 'TRUE').astype(int)\r\n",
        "(df['instant_bookable'] == 'TRUE').astype(int)\r\n"
      ],
      "execution_count": 13,
      "outputs": [
        {
          "output_type": "execute_result",
          "data": {
            "text/plain": [
              "0       0\n",
              "1       0\n",
              "2       0\n",
              "3       0\n",
              "4       0\n",
              "       ..\n",
              "4744    0\n",
              "4745    0\n",
              "4746    0\n",
              "4747    0\n",
              "4748    0\n",
              "Name: instant_bookable, Length: 4749, dtype: int64"
            ]
          },
          "metadata": {
            "tags": []
          },
          "execution_count": 13
        }
      ]
    },
    {
      "cell_type": "code",
      "metadata": {
        "colab": {
          "base_uri": "https://localhost:8080/",
          "height": 304
        },
        "id": "1IFuyXTHxWa8",
        "outputId": "60fd6f85-0f7a-4918-ee36-ded5403c20f5"
      },
      "source": [
        "df.describe()"
      ],
      "execution_count": 14,
      "outputs": [
        {
          "output_type": "execute_result",
          "data": {
            "text/html": [
              "<div>\n",
              "<style scoped>\n",
              "    .dataframe tbody tr th:only-of-type {\n",
              "        vertical-align: middle;\n",
              "    }\n",
              "\n",
              "    .dataframe tbody tr th {\n",
              "        vertical-align: top;\n",
              "    }\n",
              "\n",
              "    .dataframe thead th {\n",
              "        text-align: right;\n",
              "    }\n",
              "</style>\n",
              "<table border=\"1\" class=\"dataframe\">\n",
              "  <thead>\n",
              "    <tr style=\"text-align: right;\">\n",
              "      <th></th>\n",
              "      <th>X1</th>\n",
              "      <th>id</th>\n",
              "      <th>host_response_rate</th>\n",
              "      <th>host_listings_count</th>\n",
              "      <th>accommodates</th>\n",
              "      <th>latitude</th>\n",
              "      <th>longitude</th>\n",
              "      <th>guests_included</th>\n",
              "      <th>bathrooms</th>\n",
              "      <th>bedrooms</th>\n",
              "      <th>beds</th>\n",
              "      <th>cleaning_fee</th>\n",
              "      <th>minimum_nights</th>\n",
              "      <th>maximum_nights</th>\n",
              "      <th>price</th>\n",
              "    </tr>\n",
              "  </thead>\n",
              "  <tbody>\n",
              "    <tr>\n",
              "      <th>count</th>\n",
              "      <td>4749.000000</td>\n",
              "      <td>4.749000e+03</td>\n",
              "      <td>4749.000000</td>\n",
              "      <td>4749.000000</td>\n",
              "      <td>4749.000000</td>\n",
              "      <td>4749.000000</td>\n",
              "      <td>4749.000000</td>\n",
              "      <td>4749.000000</td>\n",
              "      <td>4749.000000</td>\n",
              "      <td>4749.000000</td>\n",
              "      <td>4749.000000</td>\n",
              "      <td>4749.000000</td>\n",
              "      <td>4749.000000</td>\n",
              "      <td>4749.000000</td>\n",
              "      <td>3015.000000</td>\n",
              "    </tr>\n",
              "    <tr>\n",
              "      <th>mean</th>\n",
              "      <td>4426.145083</td>\n",
              "      <td>1.815911e+07</td>\n",
              "      <td>97.831122</td>\n",
              "      <td>64.691725</td>\n",
              "      <td>3.857233</td>\n",
              "      <td>47.624821</td>\n",
              "      <td>-122.334132</td>\n",
              "      <td>2.152664</td>\n",
              "      <td>1.329964</td>\n",
              "      <td>1.506633</td>\n",
              "      <td>2.027374</td>\n",
              "      <td>71.720994</td>\n",
              "      <td>3.333123</td>\n",
              "      <td>594.172247</td>\n",
              "      <td>164.842123</td>\n",
              "    </tr>\n",
              "    <tr>\n",
              "      <th>std</th>\n",
              "      <td>2499.284609</td>\n",
              "      <td>8.976445e+06</td>\n",
              "      <td>10.446241</td>\n",
              "      <td>201.814363</td>\n",
              "      <td>2.454867</td>\n",
              "      <td>0.045847</td>\n",
              "      <td>0.031865</td>\n",
              "      <td>1.836878</td>\n",
              "      <td>0.659795</td>\n",
              "      <td>0.980329</td>\n",
              "      <td>1.559305</td>\n",
              "      <td>60.509490</td>\n",
              "      <td>9.526567</td>\n",
              "      <td>546.624819</td>\n",
              "      <td>165.358699</td>\n",
              "    </tr>\n",
              "    <tr>\n",
              "      <th>min</th>\n",
              "      <td>0.000000</td>\n",
              "      <td>2.318000e+03</td>\n",
              "      <td>0.000000</td>\n",
              "      <td>0.000000</td>\n",
              "      <td>1.000000</td>\n",
              "      <td>47.496037</td>\n",
              "      <td>-122.419637</td>\n",
              "      <td>1.000000</td>\n",
              "      <td>0.000000</td>\n",
              "      <td>0.000000</td>\n",
              "      <td>0.000000</td>\n",
              "      <td>0.000000</td>\n",
              "      <td>1.000000</td>\n",
              "      <td>1.000000</td>\n",
              "      <td>0.000000</td>\n",
              "    </tr>\n",
              "    <tr>\n",
              "      <th>25%</th>\n",
              "      <td>2229.000000</td>\n",
              "      <td>1.139268e+07</td>\n",
              "      <td>100.000000</td>\n",
              "      <td>1.000000</td>\n",
              "      <td>2.000000</td>\n",
              "      <td>47.604842</td>\n",
              "      <td>-122.354173</td>\n",
              "      <td>1.000000</td>\n",
              "      <td>1.000000</td>\n",
              "      <td>1.000000</td>\n",
              "      <td>1.000000</td>\n",
              "      <td>30.000000</td>\n",
              "      <td>1.000000</td>\n",
              "      <td>30.000000</td>\n",
              "      <td>77.000000</td>\n",
              "    </tr>\n",
              "    <tr>\n",
              "      <th>50%</th>\n",
              "      <td>4603.000000</td>\n",
              "      <td>2.003153e+07</td>\n",
              "      <td>100.000000</td>\n",
              "      <td>2.000000</td>\n",
              "      <td>3.000000</td>\n",
              "      <td>47.621092</td>\n",
              "      <td>-122.332824</td>\n",
              "      <td>2.000000</td>\n",
              "      <td>1.000000</td>\n",
              "      <td>1.000000</td>\n",
              "      <td>2.000000</td>\n",
              "      <td>60.000000</td>\n",
              "      <td>2.000000</td>\n",
              "      <td>365.000000</td>\n",
              "      <td>119.000000</td>\n",
              "    </tr>\n",
              "    <tr>\n",
              "      <th>75%</th>\n",
              "      <td>6609.000000</td>\n",
              "      <td>2.520392e+07</td>\n",
              "      <td>100.000000</td>\n",
              "      <td>9.000000</td>\n",
              "      <td>5.000000</td>\n",
              "      <td>47.659006</td>\n",
              "      <td>-122.312058</td>\n",
              "      <td>2.000000</td>\n",
              "      <td>1.500000</td>\n",
              "      <td>2.000000</td>\n",
              "      <td>2.000000</td>\n",
              "      <td>99.000000</td>\n",
              "      <td>2.000000</td>\n",
              "      <td>1125.000000</td>\n",
              "      <td>195.000000</td>\n",
              "    </tr>\n",
              "    <tr>\n",
              "      <th>max</th>\n",
              "      <td>8456.000000</td>\n",
              "      <td>3.223951e+07</td>\n",
              "      <td>100.000000</td>\n",
              "      <td>1596.000000</td>\n",
              "      <td>28.000000</td>\n",
              "      <td>47.733955</td>\n",
              "      <td>-122.232314</td>\n",
              "      <td>16.000000</td>\n",
              "      <td>8.000000</td>\n",
              "      <td>8.000000</td>\n",
              "      <td>20.000000</td>\n",
              "      <td>499.000000</td>\n",
              "      <td>330.000000</td>\n",
              "      <td>10000.000000</td>\n",
              "      <td>1650.000000</td>\n",
              "    </tr>\n",
              "  </tbody>\n",
              "</table>\n",
              "</div>"
            ],
            "text/plain": [
              "                X1            id  ...  maximum_nights        price\n",
              "count  4749.000000  4.749000e+03  ...     4749.000000  3015.000000\n",
              "mean   4426.145083  1.815911e+07  ...      594.172247   164.842123\n",
              "std    2499.284609  8.976445e+06  ...      546.624819   165.358699\n",
              "min       0.000000  2.318000e+03  ...        1.000000     0.000000\n",
              "25%    2229.000000  1.139268e+07  ...       30.000000    77.000000\n",
              "50%    4603.000000  2.003153e+07  ...      365.000000   119.000000\n",
              "75%    6609.000000  2.520392e+07  ...     1125.000000   195.000000\n",
              "max    8456.000000  3.223951e+07  ...    10000.000000  1650.000000\n",
              "\n",
              "[8 rows x 15 columns]"
            ]
          },
          "metadata": {
            "tags": []
          },
          "execution_count": 14
        }
      ]
    },
    {
      "cell_type": "code",
      "metadata": {
        "colab": {
          "base_uri": "https://localhost:8080/"
        },
        "id": "zZAPuKTDxtie",
        "outputId": "75ea7936-17b9-4f20-aa37-cffd87f779df"
      },
      "source": [
        "df.shape"
      ],
      "execution_count": 15,
      "outputs": [
        {
          "output_type": "execute_result",
          "data": {
            "text/plain": [
              "(4749, 26)"
            ]
          },
          "metadata": {
            "tags": []
          },
          "execution_count": 15
        }
      ]
    },
    {
      "cell_type": "markdown",
      "metadata": {
        "id": "q1eBv1c0qN66"
      },
      "source": [
        "#Correlation between Price and Other Features\r\n",
        "From the correlations heatmap diagram we can see that price is correlated with number of accomodates, bathrooms, bedrooms and beds. And it's reasonable because the more area is, the high price is!"
      ]
    },
    {
      "cell_type": "code",
      "metadata": {
        "colab": {
          "base_uri": "https://localhost:8080/",
          "height": 630
        },
        "id": "DgQr5Jhubyrj",
        "outputId": "6483ba52-4e87-48b3-9861-5dc86c98e297"
      },
      "source": [
        "corr = df.corr()\r\n",
        "corr"
      ],
      "execution_count": 16,
      "outputs": [
        {
          "output_type": "execute_result",
          "data": {
            "text/html": [
              "<div>\n",
              "<style scoped>\n",
              "    .dataframe tbody tr th:only-of-type {\n",
              "        vertical-align: middle;\n",
              "    }\n",
              "\n",
              "    .dataframe tbody tr th {\n",
              "        vertical-align: top;\n",
              "    }\n",
              "\n",
              "    .dataframe thead th {\n",
              "        text-align: right;\n",
              "    }\n",
              "</style>\n",
              "<table border=\"1\" class=\"dataframe\">\n",
              "  <thead>\n",
              "    <tr style=\"text-align: right;\">\n",
              "      <th></th>\n",
              "      <th>X1</th>\n",
              "      <th>id</th>\n",
              "      <th>host_is_superhost</th>\n",
              "      <th>host_response_rate</th>\n",
              "      <th>host_listings_count</th>\n",
              "      <th>host_identity_verified</th>\n",
              "      <th>accommodates</th>\n",
              "      <th>latitude</th>\n",
              "      <th>longitude</th>\n",
              "      <th>guests_included</th>\n",
              "      <th>bathrooms</th>\n",
              "      <th>bedrooms</th>\n",
              "      <th>beds</th>\n",
              "      <th>cleaning_fee</th>\n",
              "      <th>minimum_nights</th>\n",
              "      <th>maximum_nights</th>\n",
              "      <th>instant_bookable</th>\n",
              "      <th>price</th>\n",
              "      <th>is_train</th>\n",
              "    </tr>\n",
              "  </thead>\n",
              "  <tbody>\n",
              "    <tr>\n",
              "      <th>X1</th>\n",
              "      <td>1.000000</td>\n",
              "      <td>0.992800</td>\n",
              "      <td>-0.132641</td>\n",
              "      <td>0.020785</td>\n",
              "      <td>0.076860</td>\n",
              "      <td>-0.402355</td>\n",
              "      <td>0.039979</td>\n",
              "      <td>-0.063492</td>\n",
              "      <td>-0.007643</td>\n",
              "      <td>0.011698</td>\n",
              "      <td>-0.015186</td>\n",
              "      <td>0.019019</td>\n",
              "      <td>0.028944</td>\n",
              "      <td>0.028863</td>\n",
              "      <td>-0.010128</td>\n",
              "      <td>0.020437</td>\n",
              "      <td>0.234906</td>\n",
              "      <td>0.032073</td>\n",
              "      <td>0.005912</td>\n",
              "    </tr>\n",
              "    <tr>\n",
              "      <th>id</th>\n",
              "      <td>0.992800</td>\n",
              "      <td>1.000000</td>\n",
              "      <td>-0.132602</td>\n",
              "      <td>0.022300</td>\n",
              "      <td>0.083940</td>\n",
              "      <td>-0.402885</td>\n",
              "      <td>0.040444</td>\n",
              "      <td>-0.065531</td>\n",
              "      <td>-0.007895</td>\n",
              "      <td>0.015209</td>\n",
              "      <td>-0.014410</td>\n",
              "      <td>0.018756</td>\n",
              "      <td>0.028074</td>\n",
              "      <td>0.030629</td>\n",
              "      <td>-0.012139</td>\n",
              "      <td>0.024879</td>\n",
              "      <td>0.237798</td>\n",
              "      <td>0.037357</td>\n",
              "      <td>0.007114</td>\n",
              "    </tr>\n",
              "    <tr>\n",
              "      <th>host_is_superhost</th>\n",
              "      <td>-0.132641</td>\n",
              "      <td>-0.132602</td>\n",
              "      <td>1.000000</td>\n",
              "      <td>0.120057</td>\n",
              "      <td>-0.248110</td>\n",
              "      <td>0.203872</td>\n",
              "      <td>0.029352</td>\n",
              "      <td>0.030843</td>\n",
              "      <td>-0.019942</td>\n",
              "      <td>0.008858</td>\n",
              "      <td>-0.049625</td>\n",
              "      <td>0.007470</td>\n",
              "      <td>0.014738</td>\n",
              "      <td>-0.034834</td>\n",
              "      <td>-0.047979</td>\n",
              "      <td>-0.148086</td>\n",
              "      <td>-0.115043</td>\n",
              "      <td>-0.092027</td>\n",
              "      <td>0.009198</td>\n",
              "    </tr>\n",
              "    <tr>\n",
              "      <th>host_response_rate</th>\n",
              "      <td>0.020785</td>\n",
              "      <td>0.022300</td>\n",
              "      <td>0.120057</td>\n",
              "      <td>1.000000</td>\n",
              "      <td>0.037928</td>\n",
              "      <td>-0.040597</td>\n",
              "      <td>0.026861</td>\n",
              "      <td>0.010817</td>\n",
              "      <td>0.016243</td>\n",
              "      <td>0.028444</td>\n",
              "      <td>-0.004335</td>\n",
              "      <td>0.006362</td>\n",
              "      <td>0.013188</td>\n",
              "      <td>0.030324</td>\n",
              "      <td>-0.045881</td>\n",
              "      <td>-0.031060</td>\n",
              "      <td>0.096431</td>\n",
              "      <td>0.018000</td>\n",
              "      <td>0.016211</td>\n",
              "    </tr>\n",
              "    <tr>\n",
              "      <th>host_listings_count</th>\n",
              "      <td>0.076860</td>\n",
              "      <td>0.083940</td>\n",
              "      <td>-0.248110</td>\n",
              "      <td>0.037928</td>\n",
              "      <td>1.000000</td>\n",
              "      <td>-0.222654</td>\n",
              "      <td>0.014373</td>\n",
              "      <td>-0.069233</td>\n",
              "      <td>-0.030272</td>\n",
              "      <td>0.045657</td>\n",
              "      <td>0.020380</td>\n",
              "      <td>-0.036479</td>\n",
              "      <td>-0.037461</td>\n",
              "      <td>0.137107</td>\n",
              "      <td>0.019115</td>\n",
              "      <td>0.176498</td>\n",
              "      <td>0.187952</td>\n",
              "      <td>0.559988</td>\n",
              "      <td>0.021865</td>\n",
              "    </tr>\n",
              "    <tr>\n",
              "      <th>host_identity_verified</th>\n",
              "      <td>-0.402355</td>\n",
              "      <td>-0.402885</td>\n",
              "      <td>0.203872</td>\n",
              "      <td>-0.040597</td>\n",
              "      <td>-0.222654</td>\n",
              "      <td>1.000000</td>\n",
              "      <td>-0.018317</td>\n",
              "      <td>0.046397</td>\n",
              "      <td>0.003538</td>\n",
              "      <td>-0.015775</td>\n",
              "      <td>0.036712</td>\n",
              "      <td>0.008183</td>\n",
              "      <td>0.001944</td>\n",
              "      <td>-0.078409</td>\n",
              "      <td>0.029516</td>\n",
              "      <td>-0.060980</td>\n",
              "      <td>-0.309736</td>\n",
              "      <td>-0.133244</td>\n",
              "      <td>-0.012731</td>\n",
              "    </tr>\n",
              "    <tr>\n",
              "      <th>accommodates</th>\n",
              "      <td>0.039979</td>\n",
              "      <td>0.040444</td>\n",
              "      <td>0.029352</td>\n",
              "      <td>0.026861</td>\n",
              "      <td>0.014373</td>\n",
              "      <td>-0.018317</td>\n",
              "      <td>1.000000</td>\n",
              "      <td>0.000113</td>\n",
              "      <td>-0.043038</td>\n",
              "      <td>0.664243</td>\n",
              "      <td>0.542134</td>\n",
              "      <td>0.831362</td>\n",
              "      <td>0.858417</td>\n",
              "      <td>0.629542</td>\n",
              "      <td>-0.043337</td>\n",
              "      <td>0.055303</td>\n",
              "      <td>0.031181</td>\n",
              "      <td>0.501559</td>\n",
              "      <td>0.041594</td>\n",
              "    </tr>\n",
              "    <tr>\n",
              "      <th>latitude</th>\n",
              "      <td>-0.063492</td>\n",
              "      <td>-0.065531</td>\n",
              "      <td>0.030843</td>\n",
              "      <td>0.010817</td>\n",
              "      <td>-0.069233</td>\n",
              "      <td>0.046397</td>\n",
              "      <td>0.000113</td>\n",
              "      <td>1.000000</td>\n",
              "      <td>-0.161952</td>\n",
              "      <td>-0.003925</td>\n",
              "      <td>0.013107</td>\n",
              "      <td>0.015279</td>\n",
              "      <td>0.015482</td>\n",
              "      <td>0.006810</td>\n",
              "      <td>0.029217</td>\n",
              "      <td>-0.008284</td>\n",
              "      <td>-0.032412</td>\n",
              "      <td>-0.033230</td>\n",
              "      <td>0.019608</td>\n",
              "    </tr>\n",
              "    <tr>\n",
              "      <th>longitude</th>\n",
              "      <td>-0.007643</td>\n",
              "      <td>-0.007895</td>\n",
              "      <td>-0.019942</td>\n",
              "      <td>0.016243</td>\n",
              "      <td>-0.030272</td>\n",
              "      <td>0.003538</td>\n",
              "      <td>-0.043038</td>\n",
              "      <td>-0.161952</td>\n",
              "      <td>1.000000</td>\n",
              "      <td>-0.050200</td>\n",
              "      <td>-0.020495</td>\n",
              "      <td>-0.028811</td>\n",
              "      <td>-0.037062</td>\n",
              "      <td>-0.090707</td>\n",
              "      <td>0.003162</td>\n",
              "      <td>-0.002311</td>\n",
              "      <td>0.013013</td>\n",
              "      <td>-0.078649</td>\n",
              "      <td>-0.003692</td>\n",
              "    </tr>\n",
              "    <tr>\n",
              "      <th>guests_included</th>\n",
              "      <td>0.011698</td>\n",
              "      <td>0.015209</td>\n",
              "      <td>0.008858</td>\n",
              "      <td>0.028444</td>\n",
              "      <td>0.045657</td>\n",
              "      <td>-0.015775</td>\n",
              "      <td>0.664243</td>\n",
              "      <td>-0.003925</td>\n",
              "      <td>-0.050200</td>\n",
              "      <td>1.000000</td>\n",
              "      <td>0.407736</td>\n",
              "      <td>0.600319</td>\n",
              "      <td>0.584372</td>\n",
              "      <td>0.515706</td>\n",
              "      <td>-0.034452</td>\n",
              "      <td>0.032787</td>\n",
              "      <td>0.049780</td>\n",
              "      <td>0.398187</td>\n",
              "      <td>0.037080</td>\n",
              "    </tr>\n",
              "    <tr>\n",
              "      <th>bathrooms</th>\n",
              "      <td>-0.015186</td>\n",
              "      <td>-0.014410</td>\n",
              "      <td>-0.049625</td>\n",
              "      <td>-0.004335</td>\n",
              "      <td>0.020380</td>\n",
              "      <td>0.036712</td>\n",
              "      <td>0.542134</td>\n",
              "      <td>0.013107</td>\n",
              "      <td>-0.020495</td>\n",
              "      <td>0.407736</td>\n",
              "      <td>1.000000</td>\n",
              "      <td>0.624732</td>\n",
              "      <td>0.528492</td>\n",
              "      <td>0.493426</td>\n",
              "      <td>-0.001424</td>\n",
              "      <td>0.020626</td>\n",
              "      <td>-0.047403</td>\n",
              "      <td>0.366025</td>\n",
              "      <td>0.069050</td>\n",
              "    </tr>\n",
              "    <tr>\n",
              "      <th>bedrooms</th>\n",
              "      <td>0.019019</td>\n",
              "      <td>0.018756</td>\n",
              "      <td>0.007470</td>\n",
              "      <td>0.006362</td>\n",
              "      <td>-0.036479</td>\n",
              "      <td>0.008183</td>\n",
              "      <td>0.831362</td>\n",
              "      <td>0.015279</td>\n",
              "      <td>-0.028811</td>\n",
              "      <td>0.600319</td>\n",
              "      <td>0.624732</td>\n",
              "      <td>1.000000</td>\n",
              "      <td>0.777650</td>\n",
              "      <td>0.639687</td>\n",
              "      <td>-0.000349</td>\n",
              "      <td>0.047631</td>\n",
              "      <td>-0.025915</td>\n",
              "      <td>0.464588</td>\n",
              "      <td>0.104183</td>\n",
              "    </tr>\n",
              "    <tr>\n",
              "      <th>beds</th>\n",
              "      <td>0.028944</td>\n",
              "      <td>0.028074</td>\n",
              "      <td>0.014738</td>\n",
              "      <td>0.013188</td>\n",
              "      <td>-0.037461</td>\n",
              "      <td>0.001944</td>\n",
              "      <td>0.858417</td>\n",
              "      <td>0.015482</td>\n",
              "      <td>-0.037062</td>\n",
              "      <td>0.584372</td>\n",
              "      <td>0.528492</td>\n",
              "      <td>0.777650</td>\n",
              "      <td>1.000000</td>\n",
              "      <td>0.562361</td>\n",
              "      <td>-0.025171</td>\n",
              "      <td>0.014382</td>\n",
              "      <td>-0.006122</td>\n",
              "      <td>0.426720</td>\n",
              "      <td>0.048659</td>\n",
              "    </tr>\n",
              "    <tr>\n",
              "      <th>cleaning_fee</th>\n",
              "      <td>0.028863</td>\n",
              "      <td>0.030629</td>\n",
              "      <td>-0.034834</td>\n",
              "      <td>0.030324</td>\n",
              "      <td>0.137107</td>\n",
              "      <td>-0.078409</td>\n",
              "      <td>0.629542</td>\n",
              "      <td>0.006810</td>\n",
              "      <td>-0.090707</td>\n",
              "      <td>0.515706</td>\n",
              "      <td>0.493426</td>\n",
              "      <td>0.639687</td>\n",
              "      <td>0.562361</td>\n",
              "      <td>1.000000</td>\n",
              "      <td>0.088972</td>\n",
              "      <td>0.159470</td>\n",
              "      <td>0.006023</td>\n",
              "      <td>0.491131</td>\n",
              "      <td>0.013215</td>\n",
              "    </tr>\n",
              "    <tr>\n",
              "      <th>minimum_nights</th>\n",
              "      <td>-0.010128</td>\n",
              "      <td>-0.012139</td>\n",
              "      <td>-0.047979</td>\n",
              "      <td>-0.045881</td>\n",
              "      <td>0.019115</td>\n",
              "      <td>0.029516</td>\n",
              "      <td>-0.043337</td>\n",
              "      <td>0.029217</td>\n",
              "      <td>0.003162</td>\n",
              "      <td>-0.034452</td>\n",
              "      <td>-0.001424</td>\n",
              "      <td>-0.000349</td>\n",
              "      <td>-0.025171</td>\n",
              "      <td>0.088972</td>\n",
              "      <td>1.000000</td>\n",
              "      <td>0.041224</td>\n",
              "      <td>-0.111128</td>\n",
              "      <td>-0.024452</td>\n",
              "      <td>0.004804</td>\n",
              "    </tr>\n",
              "    <tr>\n",
              "      <th>maximum_nights</th>\n",
              "      <td>0.020437</td>\n",
              "      <td>0.024879</td>\n",
              "      <td>-0.148086</td>\n",
              "      <td>-0.031060</td>\n",
              "      <td>0.176498</td>\n",
              "      <td>-0.060980</td>\n",
              "      <td>0.055303</td>\n",
              "      <td>-0.008284</td>\n",
              "      <td>-0.002311</td>\n",
              "      <td>0.032787</td>\n",
              "      <td>0.020626</td>\n",
              "      <td>0.047631</td>\n",
              "      <td>0.014382</td>\n",
              "      <td>0.159470</td>\n",
              "      <td>0.041224</td>\n",
              "      <td>1.000000</td>\n",
              "      <td>0.068344</td>\n",
              "      <td>0.097793</td>\n",
              "      <td>-0.016306</td>\n",
              "    </tr>\n",
              "    <tr>\n",
              "      <th>instant_bookable</th>\n",
              "      <td>0.234906</td>\n",
              "      <td>0.237798</td>\n",
              "      <td>-0.115043</td>\n",
              "      <td>0.096431</td>\n",
              "      <td>0.187952</td>\n",
              "      <td>-0.309736</td>\n",
              "      <td>0.031181</td>\n",
              "      <td>-0.032412</td>\n",
              "      <td>0.013013</td>\n",
              "      <td>0.049780</td>\n",
              "      <td>-0.047403</td>\n",
              "      <td>-0.025915</td>\n",
              "      <td>-0.006122</td>\n",
              "      <td>0.006023</td>\n",
              "      <td>-0.111128</td>\n",
              "      <td>0.068344</td>\n",
              "      <td>1.000000</td>\n",
              "      <td>0.108449</td>\n",
              "      <td>0.027356</td>\n",
              "    </tr>\n",
              "    <tr>\n",
              "      <th>price</th>\n",
              "      <td>0.032073</td>\n",
              "      <td>0.037357</td>\n",
              "      <td>-0.092027</td>\n",
              "      <td>0.018000</td>\n",
              "      <td>0.559988</td>\n",
              "      <td>-0.133244</td>\n",
              "      <td>0.501559</td>\n",
              "      <td>-0.033230</td>\n",
              "      <td>-0.078649</td>\n",
              "      <td>0.398187</td>\n",
              "      <td>0.366025</td>\n",
              "      <td>0.464588</td>\n",
              "      <td>0.426720</td>\n",
              "      <td>0.491131</td>\n",
              "      <td>-0.024452</td>\n",
              "      <td>0.097793</td>\n",
              "      <td>0.108449</td>\n",
              "      <td>1.000000</td>\n",
              "      <td>NaN</td>\n",
              "    </tr>\n",
              "    <tr>\n",
              "      <th>is_train</th>\n",
              "      <td>0.005912</td>\n",
              "      <td>0.007114</td>\n",
              "      <td>0.009198</td>\n",
              "      <td>0.016211</td>\n",
              "      <td>0.021865</td>\n",
              "      <td>-0.012731</td>\n",
              "      <td>0.041594</td>\n",
              "      <td>0.019608</td>\n",
              "      <td>-0.003692</td>\n",
              "      <td>0.037080</td>\n",
              "      <td>0.069050</td>\n",
              "      <td>0.104183</td>\n",
              "      <td>0.048659</td>\n",
              "      <td>0.013215</td>\n",
              "      <td>0.004804</td>\n",
              "      <td>-0.016306</td>\n",
              "      <td>0.027356</td>\n",
              "      <td>NaN</td>\n",
              "      <td>1.000000</td>\n",
              "    </tr>\n",
              "  </tbody>\n",
              "</table>\n",
              "</div>"
            ],
            "text/plain": [
              "                              X1        id  ...     price  is_train\n",
              "X1                      1.000000  0.992800  ...  0.032073  0.005912\n",
              "id                      0.992800  1.000000  ...  0.037357  0.007114\n",
              "host_is_superhost      -0.132641 -0.132602  ... -0.092027  0.009198\n",
              "host_response_rate      0.020785  0.022300  ...  0.018000  0.016211\n",
              "host_listings_count     0.076860  0.083940  ...  0.559988  0.021865\n",
              "host_identity_verified -0.402355 -0.402885  ... -0.133244 -0.012731\n",
              "accommodates            0.039979  0.040444  ...  0.501559  0.041594\n",
              "latitude               -0.063492 -0.065531  ... -0.033230  0.019608\n",
              "longitude              -0.007643 -0.007895  ... -0.078649 -0.003692\n",
              "guests_included         0.011698  0.015209  ...  0.398187  0.037080\n",
              "bathrooms              -0.015186 -0.014410  ...  0.366025  0.069050\n",
              "bedrooms                0.019019  0.018756  ...  0.464588  0.104183\n",
              "beds                    0.028944  0.028074  ...  0.426720  0.048659\n",
              "cleaning_fee            0.028863  0.030629  ...  0.491131  0.013215\n",
              "minimum_nights         -0.010128 -0.012139  ... -0.024452  0.004804\n",
              "maximum_nights          0.020437  0.024879  ...  0.097793 -0.016306\n",
              "instant_bookable        0.234906  0.237798  ...  0.108449  0.027356\n",
              "price                   0.032073  0.037357  ...  1.000000       NaN\n",
              "is_train                0.005912  0.007114  ...       NaN  1.000000\n",
              "\n",
              "[19 rows x 19 columns]"
            ]
          },
          "metadata": {
            "tags": []
          },
          "execution_count": 16
        }
      ]
    },
    {
      "cell_type": "code",
      "metadata": {
        "colab": {
          "base_uri": "https://localhost:8080/",
          "height": 1000
        },
        "id": "FGRI63VqeYq8",
        "outputId": "ab8f6627-68d7-4278-b129-4f8eaf9ebf8a"
      },
      "source": [
        "plt.figure(figsize=(20,20))\r\n",
        "sns.heatmap(corr, \r\n",
        "        xticklabels=corr.columns,\r\n",
        "        yticklabels=corr.columns,annot=True, cmap=\"RdYlGn\")"
      ],
      "execution_count": 17,
      "outputs": [
        {
          "output_type": "execute_result",
          "data": {
            "text/plain": [
              "<matplotlib.axes._subplots.AxesSubplot at 0x7f283c907470>"
            ]
          },
          "metadata": {
            "tags": []
          },
          "execution_count": 17
        },
        {
          "output_type": "display_data",
          "data": {
            "image/png": "[encoded data removed]",
            "text/plain": [
              "<Figure size 1440x1440 with 2 Axes>"
            ]
          },
          "metadata": {
            "tags": [],
            "needs_background": "light"
          }
        }
      ]
    },
    {
      "cell_type": "code",
      "metadata": {
        "colab": {
          "base_uri": "https://localhost:8080/",
          "height": 698
        },
        "id": "S49vc991wXvS",
        "outputId": "87a0b37a-b697-4a82-f533-7744cf97de72"
      },
      "source": [
        "plt.figure(figsize=(10,10))\r\n",
        "sns.distplot(df['price'], fit=norm)\r\n",
        "plt.title(\"Price Distribution Plot\",size=15, weight='bold')"
      ],
      "execution_count": 18,
      "outputs": [
        {
          "output_type": "stream",
          "text": [
            "/usr/local/lib/python3.6/dist-packages/seaborn/distributions.py:2551: FutureWarning: `distplot` is a deprecated function and will be removed in a future version. Please adapt your code to use either `displot` (a figure-level function with similar flexibility) or `histplot` (an axes-level function for histograms).\n",
            "  warnings.warn(msg, FutureWarning)\n"
          ],
          "name": "stderr"
        },
        {
          "output_type": "execute_result",
          "data": {
            "text/plain": [
              "Text(0.5, 1.0, 'Price Distribution Plot')"
            ]
          },
          "metadata": {
            "tags": []
          },
          "execution_count": 18
        },
        {
          "output_type": "display_data",
          "data": {
            "image/png": "[encoded data removed]",
            "text/plain": [
              "<Figure size 720x720 with 1 Axes>"
            ]
          },
          "metadata": {
            "tags": [],
            "needs_background": "light"
          }
        }
      ]
    },
    {
      "cell_type": "markdown",
      "metadata": {
        "id": "_Y0LTI1DvP-R"
      },
      "source": [
        "##Conclusion from the above grapgh\r\n",
        "The above distribution graph shows that there is a right-skewed distribution on price. This means there is a positive skewness. Log transformation will be used to make this feature less skewed. This will help to make easier interpretation and better statistical analysis\r\n",
        "\r\n",
        "Since division by zero is a problem, log+1 transformation would be better."
      ]
    },
    {
      "cell_type": "code",
      "metadata": {
        "id": "FCEOHSWk2Ewg"
      },
      "source": [
        "df['price_log'] = df['price']"
      ],
      "execution_count": 19,
      "outputs": []
    },
    {
      "cell_type": "code",
      "metadata": {
        "colab": {
          "base_uri": "https://localhost:8080/",
          "height": 698
        },
        "id": "KXT_I5ypugLK",
        "outputId": "d56d5a78-0e5f-4796-cd86-820fc37a5159"
      },
      "source": [
        "df['price_log'] = np.log(df.price_log+1)\r\n",
        "plt.figure(figsize=(12,10))\r\n",
        "sns.distplot(df['price_log'], fit=norm)\r\n",
        "plt.title(\"Log-Price Distribution Plot\",size=15, weight='bold')"
      ],
      "execution_count": 20,
      "outputs": [
        {
          "output_type": "stream",
          "text": [
            "/usr/local/lib/python3.6/dist-packages/seaborn/distributions.py:2551: FutureWarning: `distplot` is a deprecated function and will be removed in a future version. Please adapt your code to use either `displot` (a figure-level function with similar flexibility) or `histplot` (an axes-level function for histograms).\n",
            "  warnings.warn(msg, FutureWarning)\n"
          ],
          "name": "stderr"
        },
        {
          "output_type": "execute_result",
          "data": {
            "text/plain": [
              "Text(0.5, 1.0, 'Log-Price Distribution Plot')"
            ]
          },
          "metadata": {
            "tags": []
          },
          "execution_count": 20
        },
        {
          "output_type": "display_data",
          "data": {
            "image/png": "[encoded data removed]",
            "text/plain": [
              "<Figure size 864x720 with 1 Axes>"
            ]
          },
          "metadata": {
            "tags": [],
            "needs_background": "light"
          }
        }
      ]
    },
    {
      "cell_type": "markdown",
      "metadata": {
        "id": "CmfOr265wuY0"
      },
      "source": [
        "Now we have normal distribution using logarithmic transformation."
      ]
    },
    {
      "cell_type": "markdown",
      "metadata": {
        "id": "eg2I2Gefhlby"
      },
      "source": [
        "#Visualization\r\n",
        "Let us have do some more Visualization on the data set.\r\n"
      ]
    },
    {
      "cell_type": "code",
      "metadata": {
        "colab": {
          "base_uri": "https://localhost:8080/",
          "height": 337
        },
        "id": "nlg8-H5niXvb",
        "outputId": "7f10cc80-4113-4c2c-be72-bc4f25449d95"
      },
      "source": [
        "room = df['room_type']\r\n",
        "r = Counter(room)\r\n",
        "\r\n",
        "room_input = pd.DataFrame.from_dict(r, orient='index').sort_values(by=0)\r\n",
        "room_input.columns = ['room_type']\r\n",
        "room_input.plot.pie(y = 'room_type', \r\n",
        "                 colormap = 'Blues_r', \r\n",
        "                 figsize=(5,5), \r\n",
        "                 fontsize = 10, autopct = '%.2f',\r\n",
        "                 legend = False,\r\n",
        "                 title = 'Room Type Distribution')"
      ],
      "execution_count": 21,
      "outputs": [
        {
          "output_type": "execute_result",
          "data": {
            "text/plain": [
              "<matplotlib.axes._subplots.AxesSubplot at 0x7f283a69a1d0>"
            ]
          },
          "metadata": {
            "tags": []
          },
          "execution_count": 21
        },
        {
          "output_type": "display_data",
          "data": {
            "image/png": "[encoded data removed]",
            "text/plain": [
              "<Figure size 360x360 with 1 Axes>"
            ]
          },
          "metadata": {
            "tags": []
          }
        }
      ]
    },
    {
      "cell_type": "markdown",
      "metadata": {
        "id": "wbHTPiR_h89R"
      },
      "source": [
        "#Conclusion from the above Pie Chart \r\n",
        "plot room type to see how many data belong to each group. Below we can see that the below dataset conntains\r\n",
        "- Shared Room: 2.25%\r\n",
        "- Private Room: 21.35%\r\n",
        "- Entire home/apt: 76.40%"
      ]
    },
    {
      "cell_type": "code",
      "metadata": {
        "colab": {
          "base_uri": "https://localhost:8080/",
          "height": 731
        },
        "id": "vmmsty6YjJox",
        "outputId": "5942b408-b59d-4c96-a80e-baaf4bb7539e"
      },
      "source": [
        "property_type_input = df.groupby('property_type').id.count()\r\n",
        "property_type_input = property_type_input.reset_index()\r\n",
        "property_type_input = property_type_input.rename(columns={'id':'Number_Of_Listings'})\r\n",
        "\r\n",
        "objects = property_type_input['property_type']\r\n",
        "y_pos = property_type_input['Number_Of_Listings']\r\n",
        "\r\n",
        "property_type_input.plot(kind='bar', \r\n",
        "           x='property_type',\r\n",
        "           y='Number_Of_Listings',\r\n",
        "           color = '#04a2aa', \r\n",
        "           figsize =(15,10), \r\n",
        "           title = 'Seattle Property Type Frequency', \r\n",
        "           legend = False)\r\n",
        "plt.ylabel('property type')\r\n",
        "plt.ylabel('Number of listings')"
      ],
      "execution_count": 22,
      "outputs": [
        {
          "output_type": "execute_result",
          "data": {
            "text/plain": [
              "Text(0, 0.5, 'Number of listings')"
            ]
          },
          "metadata": {
            "tags": []
          },
          "execution_count": 22
        },
        {
          "output_type": "display_data",
          "data": {
            "image/png": "[encoded data removed]",
            "text/plain": [
              "<Figure size 1080x720 with 1 Axes>"
            ]
          },
          "metadata": {
            "tags": [],
            "needs_background": "light"
          }
        }
      ]
    },
    {
      "cell_type": "markdown",
      "metadata": {
        "id": "e1iYyNyFktPI"
      },
      "source": [
        "##Conclusion from the above Bar graph\r\n",
        "- Owners are more inclines to listing their property as a whole and not just a partt of their house.\r\n",
        "- The data is filled with Apartment and House although there are other peoperty type listed here and there."
      ]
    },
    {
      "cell_type": "code",
      "metadata": {
        "colab": {
          "base_uri": "https://localhost:8080/",
          "height": 195
        },
        "id": "Q6r9zEEzkFDU",
        "outputId": "1b4aa439-1634-4a46-8a00-d9f8a041fc69"
      },
      "source": [
        "property_room_type = df.groupby(['property_type','room_type']).price.mean()\r\n",
        "property_room_type = property_room_type.reset_index()\r\n",
        "property_room_type=property_room_type.sort_values('price',ascending=[0])\r\n",
        "property_room_type.head()"
      ],
      "execution_count": 23,
      "outputs": [
        {
          "output_type": "execute_result",
          "data": {
            "text/html": [
              "<div>\n",
              "<style scoped>\n",
              "    .dataframe tbody tr th:only-of-type {\n",
              "        vertical-align: middle;\n",
              "    }\n",
              "\n",
              "    .dataframe tbody tr th {\n",
              "        vertical-align: top;\n",
              "    }\n",
              "\n",
              "    .dataframe thead th {\n",
              "        text-align: right;\n",
              "    }\n",
              "</style>\n",
              "<table border=\"1\" class=\"dataframe\">\n",
              "  <thead>\n",
              "    <tr style=\"text-align: right;\">\n",
              "      <th></th>\n",
              "      <th>property_type</th>\n",
              "      <th>room_type</th>\n",
              "      <th>price</th>\n",
              "    </tr>\n",
              "  </thead>\n",
              "  <tbody>\n",
              "    <tr>\n",
              "      <th>8</th>\n",
              "      <td>Boutique hotel</td>\n",
              "      <td>Private room</td>\n",
              "      <td>399.000000</td>\n",
              "    </tr>\n",
              "    <tr>\n",
              "      <th>48</th>\n",
              "      <td>Villa</td>\n",
              "      <td>Entire home/apt</td>\n",
              "      <td>298.000000</td>\n",
              "    </tr>\n",
              "    <tr>\n",
              "      <th>27</th>\n",
              "      <td>House</td>\n",
              "      <td>Entire home/apt</td>\n",
              "      <td>237.632327</td>\n",
              "    </tr>\n",
              "    <tr>\n",
              "      <th>44</th>\n",
              "      <td>Townhouse</td>\n",
              "      <td>Entire home/apt</td>\n",
              "      <td>228.852941</td>\n",
              "    </tr>\n",
              "    <tr>\n",
              "      <th>18</th>\n",
              "      <td>Cottage</td>\n",
              "      <td>Entire home/apt</td>\n",
              "      <td>213.250000</td>\n",
              "    </tr>\n",
              "  </tbody>\n",
              "</table>\n",
              "</div>"
            ],
            "text/plain": [
              "     property_type        room_type       price\n",
              "8   Boutique hotel     Private room  399.000000\n",
              "48           Villa  Entire home/apt  298.000000\n",
              "27           House  Entire home/apt  237.632327\n",
              "44       Townhouse  Entire home/apt  228.852941\n",
              "18         Cottage  Entire home/apt  213.250000"
            ]
          },
          "metadata": {
            "tags": []
          },
          "execution_count": 23
        }
      ]
    },
    {
      "cell_type": "code",
      "metadata": {
        "colab": {
          "base_uri": "https://localhost:8080/",
          "height": 752
        },
        "id": "mMzDPZw2mJNA",
        "outputId": "cefa22dd-0ea4-4e34-b244-438f4b7826fb"
      },
      "source": [
        "plt.figure(figsize=(15,12))\r\n",
        "sns.scatterplot(x='room_type', y='price', data=df)\r\n",
        "\r\n",
        "plt.xlabel(\"Room Type\", size=13)\r\n",
        "plt.ylabel(\"Price\", size=13)\r\n",
        "plt.title(\"Room Type vs Price\",size=15, weight='bold')"
      ],
      "execution_count": 24,
      "outputs": [
        {
          "output_type": "execute_result",
          "data": {
            "text/plain": [
              "Text(0.5, 1.0, 'Room Type vs Price')"
            ]
          },
          "metadata": {
            "tags": []
          },
          "execution_count": 24
        },
        {
          "output_type": "display_data",
          "data": {
            "image/png": "[encoded data removed]",
            "text/plain": [
              "<Figure size 1080x864 with 1 Axes>"
            ]
          },
          "metadata": {
            "tags": [],
            "needs_background": "light"
          }
        }
      ]
    },
    {
      "cell_type": "markdown",
      "metadata": {
        "id": "Mhkpui6_mRPD"
      },
      "source": [
        "Conclusion from the above Scatter Plot:\r\n",
        "- Owners who are offerring their Entire home/apt are going from low to high price range.\r\n",
        "- Owner who are offerring Private Room are going from low to  medium price range.\r\n",
        "- Owners who are offering Shared Rooms are going for low rates."
      ]
    },
    {
      "cell_type": "code",
      "metadata": {
        "colab": {
          "base_uri": "https://localhost:8080/",
          "height": 1000
        },
        "id": "3nACkbxhnYdr",
        "outputId": "c75ba5f4-6a37-4b59-9598-d88f3daf8a1b"
      },
      "source": [
        "plt.figure(figsize=(18,22))\r\n",
        "ax = sns.heatmap(df.groupby(['neighbourhood_group_cleansed', 'bedrooms']).price.mean().unstack(),annot=True, fmt=\".0f\")\r\n",
        "ax"
      ],
      "execution_count": 25,
      "outputs": [
        {
          "output_type": "execute_result",
          "data": {
            "text/plain": [
              "<matplotlib.axes._subplots.AxesSubplot at 0x7f283c9742e8>"
            ]
          },
          "metadata": {
            "tags": []
          },
          "execution_count": 25
        },
        {
          "output_type": "display_data",
          "data": {
            "image/png": "[encoded data removed]",
            "text/plain": [
              "<Figure size 1296x1584 with 2 Axes>"
            ]
          },
          "metadata": {
            "tags": [],
            "needs_background": "light"
          }
        }
      ]
    },
    {
      "cell_type": "markdown",
      "metadata": {
        "id": "N_VJcWnUqBsQ"
      },
      "source": [
        "##Conclusion from the above heatmap\r\n",
        "It can be analyzed that with the increase in the number of bedrooms price of listing increases. Although, it depends upon the neighbourhood as well(Although there are lot of ouliers in neighbouhood as well)."
      ]
    },
    {
      "cell_type": "markdown",
      "metadata": {
        "id": "-P67lKi008Nh"
      },
      "source": [
        "#Let us see which features are important while training the model\r\n",
        "- We will use and import sklearn library"
      ]
    },
    {
      "cell_type": "code",
      "metadata": {
        "colab": {
          "base_uri": "https://localhost:8080/"
        },
        "id": "S_SrrTj18mOH",
        "outputId": "dd88912b-60fc-4237-a56f-1ffa3ecaa914"
      },
      "source": [
        "df_modified = df\r\n",
        "df_modified.shape"
      ],
      "execution_count": 26,
      "outputs": [
        {
          "output_type": "execute_result",
          "data": {
            "text/plain": [
              "(4749, 27)"
            ]
          },
          "metadata": {
            "tags": []
          },
          "execution_count": 26
        }
      ]
    },
    {
      "cell_type": "code",
      "metadata": {
        "colab": {
          "base_uri": "https://localhost:8080/",
          "height": 402
        },
        "id": "o1CMtzaaeCl-",
        "outputId": "0bf6461f-6ca5-43b4-be87-d4e75d00bc22"
      },
      "source": [
        "df_modified = df_modified[['room_type','host_listings_count', 'cleaning_fee','bedrooms', 'accommodates','bathrooms','guests_included', 'cancellation_policy','is_train']]\r\n",
        "df_modified"
      ],
      "execution_count": 27,
      "outputs": [
        {
          "output_type": "execute_result",
          "data": {
            "text/html": [
              "<div>\n",
              "<style scoped>\n",
              "    .dataframe tbody tr th:only-of-type {\n",
              "        vertical-align: middle;\n",
              "    }\n",
              "\n",
              "    .dataframe tbody tr th {\n",
              "        vertical-align: top;\n",
              "    }\n",
              "\n",
              "    .dataframe thead th {\n",
              "        text-align: right;\n",
              "    }\n",
              "</style>\n",
              "<table border=\"1\" class=\"dataframe\">\n",
              "  <thead>\n",
              "    <tr style=\"text-align: right;\">\n",
              "      <th></th>\n",
              "      <th>room_type</th>\n",
              "      <th>host_listings_count</th>\n",
              "      <th>cleaning_fee</th>\n",
              "      <th>bedrooms</th>\n",
              "      <th>accommodates</th>\n",
              "      <th>bathrooms</th>\n",
              "      <th>guests_included</th>\n",
              "      <th>cancellation_policy</th>\n",
              "      <th>is_train</th>\n",
              "    </tr>\n",
              "  </thead>\n",
              "  <tbody>\n",
              "    <tr>\n",
              "      <th>0</th>\n",
              "      <td>Entire home/apt</td>\n",
              "      <td>521</td>\n",
              "      <td>129.0</td>\n",
              "      <td>2</td>\n",
              "      <td>5</td>\n",
              "      <td>2.0</td>\n",
              "      <td>4</td>\n",
              "      <td>strict</td>\n",
              "      <td>True</td>\n",
              "    </tr>\n",
              "    <tr>\n",
              "      <th>1</th>\n",
              "      <td>Entire home/apt</td>\n",
              "      <td>1</td>\n",
              "      <td>25.0</td>\n",
              "      <td>1</td>\n",
              "      <td>4</td>\n",
              "      <td>1.0</td>\n",
              "      <td>2</td>\n",
              "      <td>moderate</td>\n",
              "      <td>True</td>\n",
              "    </tr>\n",
              "    <tr>\n",
              "      <th>2</th>\n",
              "      <td>Private room</td>\n",
              "      <td>1</td>\n",
              "      <td>0.0</td>\n",
              "      <td>1</td>\n",
              "      <td>2</td>\n",
              "      <td>1.0</td>\n",
              "      <td>1</td>\n",
              "      <td>flexible</td>\n",
              "      <td>True</td>\n",
              "    </tr>\n",
              "    <tr>\n",
              "      <th>3</th>\n",
              "      <td>Entire home/apt</td>\n",
              "      <td>4</td>\n",
              "      <td>99.0</td>\n",
              "      <td>3</td>\n",
              "      <td>8</td>\n",
              "      <td>2.5</td>\n",
              "      <td>6</td>\n",
              "      <td>flexible</td>\n",
              "      <td>True</td>\n",
              "    </tr>\n",
              "    <tr>\n",
              "      <th>4</th>\n",
              "      <td>Entire home/apt</td>\n",
              "      <td>4</td>\n",
              "      <td>100.0</td>\n",
              "      <td>3</td>\n",
              "      <td>8</td>\n",
              "      <td>3.5</td>\n",
              "      <td>6</td>\n",
              "      <td>strict_14_with_grace_period</td>\n",
              "      <td>True</td>\n",
              "    </tr>\n",
              "    <tr>\n",
              "      <th>...</th>\n",
              "      <td>...</td>\n",
              "      <td>...</td>\n",
              "      <td>...</td>\n",
              "      <td>...</td>\n",
              "      <td>...</td>\n",
              "      <td>...</td>\n",
              "      <td>...</td>\n",
              "      <td>...</td>\n",
              "      <td>...</td>\n",
              "    </tr>\n",
              "    <tr>\n",
              "      <th>4744</th>\n",
              "      <td>Entire home/apt</td>\n",
              "      <td>51</td>\n",
              "      <td>60.0</td>\n",
              "      <td>1</td>\n",
              "      <td>3</td>\n",
              "      <td>1.0</td>\n",
              "      <td>1</td>\n",
              "      <td>moderate</td>\n",
              "      <td>False</td>\n",
              "    </tr>\n",
              "    <tr>\n",
              "      <th>4745</th>\n",
              "      <td>Entire home/apt</td>\n",
              "      <td>2</td>\n",
              "      <td>50.0</td>\n",
              "      <td>2</td>\n",
              "      <td>4</td>\n",
              "      <td>1.0</td>\n",
              "      <td>1</td>\n",
              "      <td>moderate</td>\n",
              "      <td>False</td>\n",
              "    </tr>\n",
              "    <tr>\n",
              "      <th>4746</th>\n",
              "      <td>Private room</td>\n",
              "      <td>2</td>\n",
              "      <td>25.0</td>\n",
              "      <td>1</td>\n",
              "      <td>2</td>\n",
              "      <td>1.0</td>\n",
              "      <td>1</td>\n",
              "      <td>strict_14_with_grace_period</td>\n",
              "      <td>False</td>\n",
              "    </tr>\n",
              "    <tr>\n",
              "      <th>4747</th>\n",
              "      <td>Entire home/apt</td>\n",
              "      <td>1</td>\n",
              "      <td>75.0</td>\n",
              "      <td>1</td>\n",
              "      <td>4</td>\n",
              "      <td>1.0</td>\n",
              "      <td>2</td>\n",
              "      <td>strict_14_with_grace_period</td>\n",
              "      <td>False</td>\n",
              "    </tr>\n",
              "    <tr>\n",
              "      <th>4748</th>\n",
              "      <td>Entire home/apt</td>\n",
              "      <td>2</td>\n",
              "      <td>100.0</td>\n",
              "      <td>3</td>\n",
              "      <td>6</td>\n",
              "      <td>2.0</td>\n",
              "      <td>4</td>\n",
              "      <td>strict_14_with_grace_period</td>\n",
              "      <td>False</td>\n",
              "    </tr>\n",
              "  </tbody>\n",
              "</table>\n",
              "<p>4749 rows × 9 columns</p>\n",
              "</div>"
            ],
            "text/plain": [
              "            room_type  ...  is_train\n",
              "0     Entire home/apt  ...      True\n",
              "1     Entire home/apt  ...      True\n",
              "2        Private room  ...      True\n",
              "3     Entire home/apt  ...      True\n",
              "4     Entire home/apt  ...      True\n",
              "...               ...  ...       ...\n",
              "4744  Entire home/apt  ...     False\n",
              "4745  Entire home/apt  ...     False\n",
              "4746     Private room  ...     False\n",
              "4747  Entire home/apt  ...     False\n",
              "4748  Entire home/apt  ...     False\n",
              "\n",
              "[4749 rows x 9 columns]"
            ]
          },
          "metadata": {
            "tags": []
          },
          "execution_count": 27
        }
      ]
    },
    {
      "cell_type": "markdown",
      "metadata": {
        "id": "n-xgu5oxrMtU"
      },
      "source": [
        "#Label Encoding\r\n",
        "Label Encoding refers to converting the labels into numeric form so as to convert it into the machine-readable form. Machine learning algorithms can then decide in a better way on how those labels must be operated. It is an important pre-processing step for the structured dataset in supervised learning."
      ]
    },
    {
      "cell_type": "code",
      "metadata": {
        "colab": {
          "base_uri": "https://localhost:8080/"
        },
        "id": "dpTdohCdeqEz",
        "outputId": "9ed4db8e-b798-4843-c700-e431ea6a69d0"
      },
      "source": [
        "label_encoder = preprocessing.LabelEncoder()\r\n",
        "df_modified['room_type']= label_encoder.fit_transform(df_modified[\"room_type\"]) \r\n",
        "df_modified['cancellation_policy']= label_encoder.fit_transform(df_modified[\"cancellation_policy\"]) "
      ],
      "execution_count": 28,
      "outputs": [
        {
          "output_type": "stream",
          "text": [
            "/usr/local/lib/python3.6/dist-packages/ipykernel_launcher.py:2: SettingWithCopyWarning: \n",
            "A value is trying to be set on a copy of a slice from a DataFrame.\n",
            "Try using .loc[row_indexer,col_indexer] = value instead\n",
            "\n",
            "See the caveats in the documentation: https://pandas.pydata.org/pandas-docs/stable/user_guide/indexing.html#returning-a-view-versus-a-copy\n",
            "  \n",
            "/usr/local/lib/python3.6/dist-packages/ipykernel_launcher.py:3: SettingWithCopyWarning: \n",
            "A value is trying to be set on a copy of a slice from a DataFrame.\n",
            "Try using .loc[row_indexer,col_indexer] = value instead\n",
            "\n",
            "See the caveats in the documentation: https://pandas.pydata.org/pandas-docs/stable/user_guide/indexing.html#returning-a-view-versus-a-copy\n",
            "  This is separate from the ipykernel package so we can avoid doing imports until\n"
          ],
          "name": "stderr"
        }
      ]
    },
    {
      "cell_type": "markdown",
      "metadata": {
        "id": "_Ed27qWcrbhD"
      },
      "source": [
        "#SPLIT THE CONCATNATED TRAIN AND TEST DATASET\r\n",
        "\r\n"
      ]
    },
    {
      "cell_type": "code",
      "metadata": {
        "id": "02ItoJaIwENE",
        "colab": {
          "base_uri": "https://localhost:8080/"
        },
        "outputId": "b8c45d9c-4590-4c36-e2f5-26802ec77ffe"
      },
      "source": [
        "df_train = df_modified.loc[df_modified['is_train'] == True]\r\n",
        "df_test = df_modified.loc[df_modified['is_train'] == False]\r\n",
        "df_train.drop(['is_train'],axis=1, inplace= True)\r\n",
        "df_test.drop(['is_train'],axis=1, inplace= True)\r\n",
        "df_train.shape"
      ],
      "execution_count": 29,
      "outputs": [
        {
          "output_type": "stream",
          "text": [
            "/usr/local/lib/python3.6/dist-packages/pandas/core/frame.py:4174: SettingWithCopyWarning: \n",
            "A value is trying to be set on a copy of a slice from a DataFrame\n",
            "\n",
            "See the caveats in the documentation: https://pandas.pydata.org/pandas-docs/stable/user_guide/indexing.html#returning-a-view-versus-a-copy\n",
            "  errors=errors,\n"
          ],
          "name": "stderr"
        },
        {
          "output_type": "execute_result",
          "data": {
            "text/plain": [
              "(3015, 8)"
            ]
          },
          "metadata": {
            "tags": []
          },
          "execution_count": 29
        }
      ]
    },
    {
      "cell_type": "code",
      "metadata": {
        "id": "4h4N_vbZVZa6"
      },
      "source": [
        "df_train_x, df_train_y = df_train.iloc[:,:-1], df_train.iloc[:,-1]\r\n",
        "df_test_x, df_test_y = df_test.iloc[:,:-1], df_test.iloc[:,-1]"
      ],
      "execution_count": 30,
      "outputs": []
    },
    {
      "cell_type": "code",
      "metadata": {
        "colab": {
          "base_uri": "https://localhost:8080/",
          "height": 195
        },
        "id": "OCqcT8RS8PTD",
        "outputId": "e6369ff3-07fd-43b1-b984-2647c6729495"
      },
      "source": [
        "df_train_x.head()"
      ],
      "execution_count": 31,
      "outputs": [
        {
          "output_type": "execute_result",
          "data": {
            "text/html": [
              "<div>\n",
              "<style scoped>\n",
              "    .dataframe tbody tr th:only-of-type {\n",
              "        vertical-align: middle;\n",
              "    }\n",
              "\n",
              "    .dataframe tbody tr th {\n",
              "        vertical-align: top;\n",
              "    }\n",
              "\n",
              "    .dataframe thead th {\n",
              "        text-align: right;\n",
              "    }\n",
              "</style>\n",
              "<table border=\"1\" class=\"dataframe\">\n",
              "  <thead>\n",
              "    <tr style=\"text-align: right;\">\n",
              "      <th></th>\n",
              "      <th>room_type</th>\n",
              "      <th>host_listings_count</th>\n",
              "      <th>cleaning_fee</th>\n",
              "      <th>bedrooms</th>\n",
              "      <th>accommodates</th>\n",
              "      <th>bathrooms</th>\n",
              "      <th>guests_included</th>\n",
              "    </tr>\n",
              "  </thead>\n",
              "  <tbody>\n",
              "    <tr>\n",
              "      <th>0</th>\n",
              "      <td>0</td>\n",
              "      <td>521</td>\n",
              "      <td>129.0</td>\n",
              "      <td>2</td>\n",
              "      <td>5</td>\n",
              "      <td>2.0</td>\n",
              "      <td>4</td>\n",
              "    </tr>\n",
              "    <tr>\n",
              "      <th>1</th>\n",
              "      <td>0</td>\n",
              "      <td>1</td>\n",
              "      <td>25.0</td>\n",
              "      <td>1</td>\n",
              "      <td>4</td>\n",
              "      <td>1.0</td>\n",
              "      <td>2</td>\n",
              "    </tr>\n",
              "    <tr>\n",
              "      <th>2</th>\n",
              "      <td>1</td>\n",
              "      <td>1</td>\n",
              "      <td>0.0</td>\n",
              "      <td>1</td>\n",
              "      <td>2</td>\n",
              "      <td>1.0</td>\n",
              "      <td>1</td>\n",
              "    </tr>\n",
              "    <tr>\n",
              "      <th>3</th>\n",
              "      <td>0</td>\n",
              "      <td>4</td>\n",
              "      <td>99.0</td>\n",
              "      <td>3</td>\n",
              "      <td>8</td>\n",
              "      <td>2.5</td>\n",
              "      <td>6</td>\n",
              "    </tr>\n",
              "    <tr>\n",
              "      <th>4</th>\n",
              "      <td>0</td>\n",
              "      <td>4</td>\n",
              "      <td>100.0</td>\n",
              "      <td>3</td>\n",
              "      <td>8</td>\n",
              "      <td>3.5</td>\n",
              "      <td>6</td>\n",
              "    </tr>\n",
              "  </tbody>\n",
              "</table>\n",
              "</div>"
            ],
            "text/plain": [
              "   room_type  host_listings_count  ...  bathrooms  guests_included\n",
              "0          0                  521  ...        2.0                4\n",
              "1          0                    1  ...        1.0                2\n",
              "2          1                    1  ...        1.0                1\n",
              "3          0                    4  ...        2.5                6\n",
              "4          0                    4  ...        3.5                6\n",
              "\n",
              "[5 rows x 7 columns]"
            ]
          },
          "metadata": {
            "tags": []
          },
          "execution_count": 31
        }
      ]
    },
    {
      "cell_type": "markdown",
      "metadata": {
        "id": "AooX0GdPrniU"
      },
      "source": [
        "#Undertsand Which Fetures are Important!"
      ]
    },
    {
      "cell_type": "code",
      "metadata": {
        "colab": {
          "base_uri": "https://localhost:8080/"
        },
        "id": "wDUcDzbN1pDb",
        "outputId": "27933dcb-630f-4c3b-8ed0-1057a2bd1e4c"
      },
      "source": [
        "### Feature Importance\r\n",
        "\r\n",
        "from sklearn.ensemble import ExtraTreesRegressor\r\n",
        "import matplotlib.pyplot as plt\r\n",
        "model = ExtraTreesRegressor()\r\n",
        "model.fit(df_train_x,df_train_y)"
      ],
      "execution_count": 32,
      "outputs": [
        {
          "output_type": "execute_result",
          "data": {
            "text/plain": [
              "ExtraTreesRegressor(bootstrap=False, ccp_alpha=0.0, criterion='mse',\n",
              "                    max_depth=None, max_features='auto', max_leaf_nodes=None,\n",
              "                    max_samples=None, min_impurity_decrease=0.0,\n",
              "                    min_impurity_split=None, min_samples_leaf=1,\n",
              "                    min_samples_split=2, min_weight_fraction_leaf=0.0,\n",
              "                    n_estimators=100, n_jobs=None, oob_score=False,\n",
              "                    random_state=None, verbose=0, warm_start=False)"
            ]
          },
          "metadata": {
            "tags": []
          },
          "execution_count": 32
        }
      ]
    },
    {
      "cell_type": "code",
      "metadata": {
        "colab": {
          "base_uri": "https://localhost:8080/"
        },
        "id": "qWqi_7eAmlup",
        "outputId": "1720dfdb-33c6-4ae6-ca40-178dddbf1dab"
      },
      "source": [
        "#find which fetures are more important\r\n",
        "print(model.feature_importances_)"
      ],
      "execution_count": 33,
      "outputs": [
        {
          "output_type": "stream",
          "text": [
            "[0.03673857 0.33728733 0.29802776 0.04881767 0.11715891 0.07097634\n",
            " 0.09099342]\n"
          ],
          "name": "stdout"
        }
      ]
    },
    {
      "cell_type": "code",
      "metadata": {
        "colab": {
          "base_uri": "https://localhost:8080/",
          "height": 265
        },
        "id": "XSv_yreAm8ti",
        "outputId": "a0862cdf-3741-43c0-f077-4b388de32959"
      },
      "source": [
        "feat_importances = pd.Series(model.feature_importances_, index=df_train_x.columns)\r\n",
        "feat_importances.nlargest(10).plot(kind='barh')\r\n",
        "plt.show()"
      ],
      "execution_count": 34,
      "outputs": [
        {
          "output_type": "display_data",
          "data": {
            "image/png": "[encoded data removed]",
            "text/plain": [
              "<Figure size 432x288 with 1 Axes>"
            ]
          },
          "metadata": {
            "tags": [],
            "needs_background": "light"
          }
        }
      ]
    },
    {
      "cell_type": "markdown",
      "metadata": {
        "id": "uq3XYF3-rynf"
      },
      "source": [
        "From the above graph we can see that these are the top 10 features that can help us select what columns to consider in Decision Tree."
      ]
    },
    {
      "cell_type": "code",
      "metadata": {
        "id": "WqP5mrVono24"
      },
      "source": [
        "from sklearn.ensemble import RandomForestRegressor"
      ],
      "execution_count": 35,
      "outputs": []
    },
    {
      "cell_type": "code",
      "metadata": {
        "colab": {
          "base_uri": "https://localhost:8080/"
        },
        "id": "KmpgiBCZnshO",
        "outputId": "700c78b6-de3f-40eb-9e95-a36aa90a2289"
      },
      "source": [
        "import numpy as np\r\n",
        "n_estimators = [int(x) for x in np.linspace(start = 100, stop = 1200, num = 12)]\r\n",
        "print(n_estimators)"
      ],
      "execution_count": 36,
      "outputs": [
        {
          "output_type": "stream",
          "text": [
            "[100, 200, 300, 400, 500, 600, 700, 800, 900, 1000, 1100, 1200]\n"
          ],
          "name": "stdout"
        }
      ]
    },
    {
      "cell_type": "markdown",
      "metadata": {
        "id": "h0ZzgTIQsFse"
      },
      "source": [
        "#HYPERPARAMETER TUNING"
      ]
    },
    {
      "cell_type": "code",
      "metadata": {
        "id": "c9oY1YXknzeC"
      },
      "source": [
        "from sklearn.model_selection import RandomizedSearchCV"
      ],
      "execution_count": 37,
      "outputs": []
    },
    {
      "cell_type": "code",
      "metadata": {
        "id": "VgTVZx6Bn0O7"
      },
      "source": [
        " #Randomized Search CV\r\n",
        "\r\n",
        "# Number of trees in random forest\r\n",
        "n_estimators = [int(x) for x in np.linspace(start = 100, stop = 1200, num = 12)]\r\n",
        "# Number of features to consider at every split\r\n",
        "max_features = ['auto', 'sqrt']\r\n",
        "# Maximum number of levels in tree\r\n",
        "max_depth = [int(x) for x in np.linspace(5, 30, num = 6)]\r\n",
        "# max_depth.append(None)\r\n",
        "# Minimum number of samples required to split a node\r\n",
        "min_samples_split = [2, 5, 10, 15, 100]\r\n",
        "# Minimum number of samples required at each leaf node\r\n",
        "min_samples_leaf = [1, 2, 5, 10]"
      ],
      "execution_count": 38,
      "outputs": []
    },
    {
      "cell_type": "code",
      "metadata": {
        "colab": {
          "base_uri": "https://localhost:8080/"
        },
        "id": "w7ABPzBDn9RL",
        "outputId": "d5dd0a08-0cc4-406c-8482-f0c26d90735f"
      },
      "source": [
        "random_grid = {'n_estimators': n_estimators,\r\n",
        "               'max_features': max_features,\r\n",
        "               'max_depth': max_depth,\r\n",
        "               'min_samples_split': min_samples_split,\r\n",
        "               'min_samples_leaf': min_samples_leaf}\r\n",
        "\r\n",
        "print(random_grid)"
      ],
      "execution_count": 39,
      "outputs": [
        {
          "output_type": "stream",
          "text": [
            "{'n_estimators': [100, 200, 300, 400, 500, 600, 700, 800, 900, 1000, 1100, 1200], 'max_features': ['auto', 'sqrt'], 'max_depth': [5, 10, 15, 20, 25, 30], 'min_samples_split': [2, 5, 10, 15, 100], 'min_samples_leaf': [1, 2, 5, 10]}\n"
          ],
          "name": "stdout"
        }
      ]
    },
    {
      "cell_type": "code",
      "metadata": {
        "id": "Nym5XM7noAGY"
      },
      "source": [
        "# Use the random grid to search for best hyperparameters\r\n",
        "# First create the base model to tune\r\n",
        "rf = RandomForestRegressor()"
      ],
      "execution_count": 40,
      "outputs": []
    },
    {
      "cell_type": "code",
      "metadata": {
        "id": "ntMdQ9ISoGG6"
      },
      "source": [
        "# Random search of parameters, using 3 fold cross validation, \r\n",
        "# search across 100 different combinations\r\n",
        "rf_random = RandomizedSearchCV(estimator = rf, param_distributions = random_grid,scoring='neg_mean_squared_error', n_iter = 10, cv = 5, verbose=2, random_state=42, n_jobs = 1)"
      ],
      "execution_count": 41,
      "outputs": []
    },
    {
      "cell_type": "code",
      "metadata": {
        "colab": {
          "base_uri": "https://localhost:8080/"
        },
        "id": "ctS7fO5SoNVR",
        "outputId": "9cc0400d-3ffe-44da-f19e-141d3f4cf8f0"
      },
      "source": [
        "rf_random.fit(df_train_x,df_train_y)"
      ],
      "execution_count": 42,
      "outputs": [
        {
          "output_type": "stream",
          "text": [
            "Fitting 5 folds for each of 10 candidates, totalling 50 fits\n",
            "[CV] n_estimators=900, min_samples_split=5, min_samples_leaf=5, max_features=sqrt, max_depth=10 \n"
          ],
          "name": "stdout"
        },
        {
          "output_type": "stream",
          "text": [
            "[Parallel(n_jobs=1)]: Using backend SequentialBackend with 1 concurrent workers.\n"
          ],
          "name": "stderr"
        },
        {
          "output_type": "stream",
          "text": [
            "[CV]  n_estimators=900, min_samples_split=5, min_samples_leaf=5, max_features=sqrt, max_depth=10, total=   1.8s\n",
            "[CV] n_estimators=900, min_samples_split=5, min_samples_leaf=5, max_features=sqrt, max_depth=10 \n"
          ],
          "name": "stdout"
        },
        {
          "output_type": "stream",
          "text": [
            "[Parallel(n_jobs=1)]: Done   1 out of   1 | elapsed:    1.8s remaining:    0.0s\n"
          ],
          "name": "stderr"
        },
        {
          "output_type": "stream",
          "text": [
            "[CV]  n_estimators=900, min_samples_split=5, min_samples_leaf=5, max_features=sqrt, max_depth=10, total=   1.8s\n",
            "[CV] n_estimators=900, min_samples_split=5, min_samples_leaf=5, max_features=sqrt, max_depth=10 \n",
            "[CV]  n_estimators=900, min_samples_split=5, min_samples_leaf=5, max_features=sqrt, max_depth=10, total=   1.8s\n",
            "[CV] n_estimators=900, min_samples_split=5, min_samples_leaf=5, max_features=sqrt, max_depth=10 \n",
            "[CV]  n_estimators=900, min_samples_split=5, min_samples_leaf=5, max_features=sqrt, max_depth=10, total=   1.8s\n",
            "[CV] n_estimators=900, min_samples_split=5, min_samples_leaf=5, max_features=sqrt, max_depth=10 \n",
            "[CV]  n_estimators=900, min_samples_split=5, min_samples_leaf=5, max_features=sqrt, max_depth=10, total=   1.8s\n",
            "[CV] n_estimators=1100, min_samples_split=10, min_samples_leaf=2, max_features=sqrt, max_depth=15 \n",
            "[CV]  n_estimators=1100, min_samples_split=10, min_samples_leaf=2, max_features=sqrt, max_depth=15, total=   2.4s\n",
            "[CV] n_estimators=1100, min_samples_split=10, min_samples_leaf=2, max_features=sqrt, max_depth=15 \n",
            "[CV]  n_estimators=1100, min_samples_split=10, min_samples_leaf=2, max_features=sqrt, max_depth=15, total=   2.4s\n",
            "[CV] n_estimators=1100, min_samples_split=10, min_samples_leaf=2, max_features=sqrt, max_depth=15 \n",
            "[CV]  n_estimators=1100, min_samples_split=10, min_samples_leaf=2, max_features=sqrt, max_depth=15, total=   2.4s\n",
            "[CV] n_estimators=1100, min_samples_split=10, min_samples_leaf=2, max_features=sqrt, max_depth=15 \n",
            "[CV]  n_estimators=1100, min_samples_split=10, min_samples_leaf=2, max_features=sqrt, max_depth=15, total=   2.4s\n",
            "[CV] n_estimators=1100, min_samples_split=10, min_samples_leaf=2, max_features=sqrt, max_depth=15 \n",
            "[CV]  n_estimators=1100, min_samples_split=10, min_samples_leaf=2, max_features=sqrt, max_depth=15, total=   2.4s\n",
            "[CV] n_estimators=300, min_samples_split=100, min_samples_leaf=5, max_features=auto, max_depth=15 \n",
            "[CV]  n_estimators=300, min_samples_split=100, min_samples_leaf=5, max_features=auto, max_depth=15, total=   0.8s\n",
            "[CV] n_estimators=300, min_samples_split=100, min_samples_leaf=5, max_features=auto, max_depth=15 \n",
            "[CV]  n_estimators=300, min_samples_split=100, min_samples_leaf=5, max_features=auto, max_depth=15, total=   0.8s\n",
            "[CV] n_estimators=300, min_samples_split=100, min_samples_leaf=5, max_features=auto, max_depth=15 \n",
            "[CV]  n_estimators=300, min_samples_split=100, min_samples_leaf=5, max_features=auto, max_depth=15, total=   0.8s\n",
            "[CV] n_estimators=300, min_samples_split=100, min_samples_leaf=5, max_features=auto, max_depth=15 \n",
            "[CV]  n_estimators=300, min_samples_split=100, min_samples_leaf=5, max_features=auto, max_depth=15, total=   0.8s\n",
            "[CV] n_estimators=300, min_samples_split=100, min_samples_leaf=5, max_features=auto, max_depth=15 \n",
            "[CV]  n_estimators=300, min_samples_split=100, min_samples_leaf=5, max_features=auto, max_depth=15, total=   0.8s\n",
            "[CV] n_estimators=400, min_samples_split=5, min_samples_leaf=5, max_features=auto, max_depth=15 \n",
            "[CV]  n_estimators=400, min_samples_split=5, min_samples_leaf=5, max_features=auto, max_depth=15, total=   1.4s\n",
            "[CV] n_estimators=400, min_samples_split=5, min_samples_leaf=5, max_features=auto, max_depth=15 \n",
            "[CV]  n_estimators=400, min_samples_split=5, min_samples_leaf=5, max_features=auto, max_depth=15, total=   1.4s\n",
            "[CV] n_estimators=400, min_samples_split=5, min_samples_leaf=5, max_features=auto, max_depth=15 \n",
            "[CV]  n_estimators=400, min_samples_split=5, min_samples_leaf=5, max_features=auto, max_depth=15, total=   1.4s\n",
            "[CV] n_estimators=400, min_samples_split=5, min_samples_leaf=5, max_features=auto, max_depth=15 \n",
            "[CV]  n_estimators=400, min_samples_split=5, min_samples_leaf=5, max_features=auto, max_depth=15, total=   1.4s\n",
            "[CV] n_estimators=400, min_samples_split=5, min_samples_leaf=5, max_features=auto, max_depth=15 \n",
            "[CV]  n_estimators=400, min_samples_split=5, min_samples_leaf=5, max_features=auto, max_depth=15, total=   1.4s\n",
            "[CV] n_estimators=700, min_samples_split=5, min_samples_leaf=10, max_features=auto, max_depth=20 \n",
            "[CV]  n_estimators=700, min_samples_split=5, min_samples_leaf=10, max_features=auto, max_depth=20, total=   2.2s\n",
            "[CV] n_estimators=700, min_samples_split=5, min_samples_leaf=10, max_features=auto, max_depth=20 \n",
            "[CV]  n_estimators=700, min_samples_split=5, min_samples_leaf=10, max_features=auto, max_depth=20, total=   2.2s\n",
            "[CV] n_estimators=700, min_samples_split=5, min_samples_leaf=10, max_features=auto, max_depth=20 \n",
            "[CV]  n_estimators=700, min_samples_split=5, min_samples_leaf=10, max_features=auto, max_depth=20, total=   2.2s\n",
            "[CV] n_estimators=700, min_samples_split=5, min_samples_leaf=10, max_features=auto, max_depth=20 \n",
            "[CV]  n_estimators=700, min_samples_split=5, min_samples_leaf=10, max_features=auto, max_depth=20, total=   2.2s\n",
            "[CV] n_estimators=700, min_samples_split=5, min_samples_leaf=10, max_features=auto, max_depth=20 \n",
            "[CV]  n_estimators=700, min_samples_split=5, min_samples_leaf=10, max_features=auto, max_depth=20, total=   2.2s\n",
            "[CV] n_estimators=1000, min_samples_split=2, min_samples_leaf=1, max_features=sqrt, max_depth=25 \n",
            "[CV]  n_estimators=1000, min_samples_split=2, min_samples_leaf=1, max_features=sqrt, max_depth=25, total=   2.8s\n",
            "[CV] n_estimators=1000, min_samples_split=2, min_samples_leaf=1, max_features=sqrt, max_depth=25 \n",
            "[CV]  n_estimators=1000, min_samples_split=2, min_samples_leaf=1, max_features=sqrt, max_depth=25, total=   2.7s\n",
            "[CV] n_estimators=1000, min_samples_split=2, min_samples_leaf=1, max_features=sqrt, max_depth=25 \n",
            "[CV]  n_estimators=1000, min_samples_split=2, min_samples_leaf=1, max_features=sqrt, max_depth=25, total=   2.7s\n",
            "[CV] n_estimators=1000, min_samples_split=2, min_samples_leaf=1, max_features=sqrt, max_depth=25 \n",
            "[CV]  n_estimators=1000, min_samples_split=2, min_samples_leaf=1, max_features=sqrt, max_depth=25, total=   2.7s\n",
            "[CV] n_estimators=1000, min_samples_split=2, min_samples_leaf=1, max_features=sqrt, max_depth=25 \n",
            "[CV]  n_estimators=1000, min_samples_split=2, min_samples_leaf=1, max_features=sqrt, max_depth=25, total=   2.7s\n",
            "[CV] n_estimators=1100, min_samples_split=15, min_samples_leaf=10, max_features=sqrt, max_depth=5 \n",
            "[CV]  n_estimators=1100, min_samples_split=15, min_samples_leaf=10, max_features=sqrt, max_depth=5, total=   1.8s\n",
            "[CV] n_estimators=1100, min_samples_split=15, min_samples_leaf=10, max_features=sqrt, max_depth=5 \n",
            "[CV]  n_estimators=1100, min_samples_split=15, min_samples_leaf=10, max_features=sqrt, max_depth=5, total=   1.8s\n",
            "[CV] n_estimators=1100, min_samples_split=15, min_samples_leaf=10, max_features=sqrt, max_depth=5 \n",
            "[CV]  n_estimators=1100, min_samples_split=15, min_samples_leaf=10, max_features=sqrt, max_depth=5, total=   1.8s\n",
            "[CV] n_estimators=1100, min_samples_split=15, min_samples_leaf=10, max_features=sqrt, max_depth=5 \n",
            "[CV]  n_estimators=1100, min_samples_split=15, min_samples_leaf=10, max_features=sqrt, max_depth=5, total=   1.8s\n",
            "[CV] n_estimators=1100, min_samples_split=15, min_samples_leaf=10, max_features=sqrt, max_depth=5 \n",
            "[CV]  n_estimators=1100, min_samples_split=15, min_samples_leaf=10, max_features=sqrt, max_depth=5, total=   1.8s\n",
            "[CV] n_estimators=300, min_samples_split=15, min_samples_leaf=1, max_features=sqrt, max_depth=15 \n",
            "[CV]  n_estimators=300, min_samples_split=15, min_samples_leaf=1, max_features=sqrt, max_depth=15, total=   0.7s\n",
            "[CV] n_estimators=300, min_samples_split=15, min_samples_leaf=1, max_features=sqrt, max_depth=15 \n",
            "[CV]  n_estimators=300, min_samples_split=15, min_samples_leaf=1, max_features=sqrt, max_depth=15, total=   0.6s\n",
            "[CV] n_estimators=300, min_samples_split=15, min_samples_leaf=1, max_features=sqrt, max_depth=15 \n",
            "[CV]  n_estimators=300, min_samples_split=15, min_samples_leaf=1, max_features=sqrt, max_depth=15, total=   0.6s\n",
            "[CV] n_estimators=300, min_samples_split=15, min_samples_leaf=1, max_features=sqrt, max_depth=15 \n",
            "[CV]  n_estimators=300, min_samples_split=15, min_samples_leaf=1, max_features=sqrt, max_depth=15, total=   0.7s\n",
            "[CV] n_estimators=300, min_samples_split=15, min_samples_leaf=1, max_features=sqrt, max_depth=15 \n",
            "[CV]  n_estimators=300, min_samples_split=15, min_samples_leaf=1, max_features=sqrt, max_depth=15, total=   0.7s\n",
            "[CV] n_estimators=700, min_samples_split=10, min_samples_leaf=2, max_features=sqrt, max_depth=5 \n",
            "[CV]  n_estimators=700, min_samples_split=10, min_samples_leaf=2, max_features=sqrt, max_depth=5, total=   1.1s\n",
            "[CV] n_estimators=700, min_samples_split=10, min_samples_leaf=2, max_features=sqrt, max_depth=5 \n",
            "[CV]  n_estimators=700, min_samples_split=10, min_samples_leaf=2, max_features=sqrt, max_depth=5, total=   1.2s\n",
            "[CV] n_estimators=700, min_samples_split=10, min_samples_leaf=2, max_features=sqrt, max_depth=5 \n",
            "[CV]  n_estimators=700, min_samples_split=10, min_samples_leaf=2, max_features=sqrt, max_depth=5, total=   1.2s\n",
            "[CV] n_estimators=700, min_samples_split=10, min_samples_leaf=2, max_features=sqrt, max_depth=5 \n",
            "[CV]  n_estimators=700, min_samples_split=10, min_samples_leaf=2, max_features=sqrt, max_depth=5, total=   1.1s\n",
            "[CV] n_estimators=700, min_samples_split=10, min_samples_leaf=2, max_features=sqrt, max_depth=5 \n",
            "[CV]  n_estimators=700, min_samples_split=10, min_samples_leaf=2, max_features=sqrt, max_depth=5, total=   1.1s\n",
            "[CV] n_estimators=700, min_samples_split=15, min_samples_leaf=1, max_features=auto, max_depth=20 \n",
            "[CV]  n_estimators=700, min_samples_split=15, min_samples_leaf=1, max_features=auto, max_depth=20, total=   2.6s\n",
            "[CV] n_estimators=700, min_samples_split=15, min_samples_leaf=1, max_features=auto, max_depth=20 \n",
            "[CV]  n_estimators=700, min_samples_split=15, min_samples_leaf=1, max_features=auto, max_depth=20, total=   2.5s\n",
            "[CV] n_estimators=700, min_samples_split=15, min_samples_leaf=1, max_features=auto, max_depth=20 \n",
            "[CV]  n_estimators=700, min_samples_split=15, min_samples_leaf=1, max_features=auto, max_depth=20, total=   2.5s\n",
            "[CV] n_estimators=700, min_samples_split=15, min_samples_leaf=1, max_features=auto, max_depth=20 \n",
            "[CV]  n_estimators=700, min_samples_split=15, min_samples_leaf=1, max_features=auto, max_depth=20, total=   2.6s\n",
            "[CV] n_estimators=700, min_samples_split=15, min_samples_leaf=1, max_features=auto, max_depth=20 \n",
            "[CV]  n_estimators=700, min_samples_split=15, min_samples_leaf=1, max_features=auto, max_depth=20, total=   2.6s\n"
          ],
          "name": "stdout"
        },
        {
          "output_type": "stream",
          "text": [
            "[Parallel(n_jobs=1)]: Done  50 out of  50 | elapsed:  1.5min finished\n"
          ],
          "name": "stderr"
        },
        {
          "output_type": "execute_result",
          "data": {
            "text/plain": [
              "RandomizedSearchCV(cv=5, error_score=nan,\n",
              "                   estimator=RandomForestRegressor(bootstrap=True,\n",
              "                                                   ccp_alpha=0.0,\n",
              "                                                   criterion='mse',\n",
              "                                                   max_depth=None,\n",
              "                                                   max_features='auto',\n",
              "                                                   max_leaf_nodes=None,\n",
              "                                                   max_samples=None,\n",
              "                                                   min_impurity_decrease=0.0,\n",
              "                                                   min_impurity_split=None,\n",
              "                                                   min_samples_leaf=1,\n",
              "                                                   min_samples_split=2,\n",
              "                                                   min_weight_fraction_leaf=0.0,\n",
              "                                                   n_estimators=100,\n",
              "                                                   n_jobs=None, oob_score=Fals...\n",
              "                   iid='deprecated', n_iter=10, n_jobs=1,\n",
              "                   param_distributions={'max_depth': [5, 10, 15, 20, 25, 30],\n",
              "                                        'max_features': ['auto', 'sqrt'],\n",
              "                                        'min_samples_leaf': [1, 2, 5, 10],\n",
              "                                        'min_samples_split': [2, 5, 10, 15,\n",
              "                                                              100],\n",
              "                                        'n_estimators': [100, 200, 300, 400,\n",
              "                                                         500, 600, 700, 800,\n",
              "                                                         900, 1000, 1100,\n",
              "                                                         1200]},\n",
              "                   pre_dispatch='2*n_jobs', random_state=42, refit=True,\n",
              "                   return_train_score=False, scoring='neg_mean_squared_error',\n",
              "                   verbose=2)"
            ]
          },
          "metadata": {
            "tags": []
          },
          "execution_count": 42
        }
      ]
    },
    {
      "cell_type": "code",
      "metadata": {
        "colab": {
          "base_uri": "https://localhost:8080/"
        },
        "id": "HUEOp0pWo-BJ",
        "outputId": "eed2b5ff-dcd7-46c3-910f-0b5bc627a6b9"
      },
      "source": [
        "rf_random.best_params_"
      ],
      "execution_count": 43,
      "outputs": [
        {
          "output_type": "execute_result",
          "data": {
            "text/plain": [
              "{'max_depth': 15,\n",
              " 'max_features': 'sqrt',\n",
              " 'min_samples_leaf': 2,\n",
              " 'min_samples_split': 10,\n",
              " 'n_estimators': 1100}"
            ]
          },
          "metadata": {
            "tags": []
          },
          "execution_count": 43
        }
      ]
    },
    {
      "cell_type": "code",
      "metadata": {
        "colab": {
          "base_uri": "https://localhost:8080/"
        },
        "id": "X0RyegmBpCWJ",
        "outputId": "fc4b7362-fd45-4ac1-d49a-22e48b5ca5ab"
      },
      "source": [
        "rf_random.best_score_"
      ],
      "execution_count": 44,
      "outputs": [
        {
          "output_type": "execute_result",
          "data": {
            "text/plain": [
              "-0.9328513487582233"
            ]
          },
          "metadata": {
            "tags": []
          },
          "execution_count": 44
        }
      ]
    },
    {
      "cell_type": "code",
      "metadata": {
        "id": "Ieac8_ytiNpD",
        "colab": {
          "base_uri": "https://localhost:8080/"
        },
        "outputId": "6e7a7c3b-454c-467d-ede4-e90b3e805dd7"
      },
      "source": [
        "def ridge_reg(input_x, input_y, cv=5):\r\n",
        "    ## Defining parameters\r\n",
        "    model_Ridge= Ridge()\r\n",
        "\r\n",
        "    # prepare a range of alpha values to test\r\n",
        "    alphas = np.array([1,0.1,0.01,0.001,0.0001,0])\r\n",
        "    normalizes= ([True,False])\r\n",
        "\r\n",
        "    ## Building Grid Search algorithm with cross-validation and Mean Squared Error score.\r\n",
        "\r\n",
        "    grid_search_Ridge = GridSearchCV(estimator=model_Ridge,  \r\n",
        "                         param_grid=(dict(alpha=alphas, normalize= normalizes)),\r\n",
        "                         scoring='neg_mean_squared_error',\r\n",
        "                         cv=cv,\r\n",
        "                         n_jobs=-1)\r\n",
        "\r\n",
        "    ## Lastly, finding the best parameters.\r\n",
        "\r\n",
        "    grid_search_Ridge.fit(input_x, input_y)\r\n",
        "    best_parameters_Ridge = grid_search_Ridge.best_params_  \r\n",
        "    best_score_Ridge = grid_search_Ridge.best_score_ \r\n",
        "    print(best_parameters_Ridge)\r\n",
        "    print(best_score_Ridge)\r\n",
        "ridge_reg(df_train_x, df_train_y, cv=5)"
      ],
      "execution_count": 45,
      "outputs": [
        {
          "output_type": "stream",
          "text": [
            "{'alpha': 0.01, 'normalize': True}\n",
            "-1.2293960770789474\n"
          ],
          "name": "stdout"
        }
      ]
    },
    {
      "cell_type": "code",
      "metadata": {
        "id": "TxZvUOzghqBS",
        "colab": {
          "base_uri": "https://localhost:8080/"
        },
        "outputId": "193dfc7c-e03d-436e-c1d6-e96021e2d001"
      },
      "source": [
        "### Lasso Regression ###\r\n",
        "\r\n",
        "def lasso_reg(input_x, input_y, cv=5):\r\n",
        "    ## Defining parameters\r\n",
        "    model_Lasso= Lasso()\r\n",
        "\r\n",
        "    # prepare a range of alpha values to test\r\n",
        "    alphas = np.array([1,0.1,0.01,0.001,0.0001,0])\r\n",
        "    normalizes= ([True,False])\r\n",
        "\r\n",
        "    ## Building Grid Search algorithm with cross-validation and Mean Squared Error score.\r\n",
        "\r\n",
        "    grid_search_lasso = GridSearchCV(estimator=model_Lasso,  \r\n",
        "                         param_grid=(dict(alpha=alphas, normalize= normalizes)),\r\n",
        "                         scoring='neg_mean_squared_error',\r\n",
        "                         cv=cv,\r\n",
        "                         n_jobs=-1)\r\n",
        "\r\n",
        "    ## Lastly, finding the best parameters.\r\n",
        "\r\n",
        "    grid_search_lasso.fit(input_x, input_y)\r\n",
        "    best_parameters_lasso = grid_search_lasso.best_params_  \r\n",
        "    best_score_lasso = grid_search_lasso.best_score_ \r\n",
        "    print(best_parameters_lasso)\r\n",
        "    print(best_score_lasso)\r\n",
        "lasso_reg(df_train_x, df_train_y, cv=5)"
      ],
      "execution_count": 46,
      "outputs": [
        {
          "output_type": "stream",
          "text": [
            "{'alpha': 0.001, 'normalize': False}\n",
            "-1.2295129423657933\n"
          ],
          "name": "stdout"
        }
      ]
    },
    {
      "cell_type": "code",
      "metadata": {
        "id": "5O5SB-huipcE",
        "colab": {
          "base_uri": "https://localhost:8080/"
        },
        "outputId": "f9f3a5ba-e0be-4d61-b5ea-745310f3e647"
      },
      "source": [
        "### ElasticNet Regression ###\r\n",
        "\r\n",
        "def elastic_reg(input_x, input_y,cv=5):\r\n",
        "    ## Defining parameters\r\n",
        "    model_grid_Elastic= ElasticNet()\r\n",
        "\r\n",
        "    # prepare a range of alpha values to test\r\n",
        "    alphas = np.array([1,0.1,0.01,0.001,0.0001,0])\r\n",
        "    normalizes= ([True,False])\r\n",
        "\r\n",
        "    ## Building Grid Search algorithm with cross-validation and Mean Squared Error score.\r\n",
        "\r\n",
        "    grid_search_elastic = GridSearchCV(estimator=model_grid_Elastic,  \r\n",
        "                         param_grid=(dict(alpha=alphas, normalize= normalizes)),\r\n",
        "                         scoring='neg_mean_squared_error',\r\n",
        "                         cv=cv,\r\n",
        "                         n_jobs=-1)\r\n",
        "\r\n",
        "    ## Lastly, finding the best parameters.\r\n",
        "\r\n",
        "    grid_search_elastic.fit(input_x, input_y)\r\n",
        "    best_parameters_elastic = grid_search_elastic.best_params_  \r\n",
        "    best_score_elastic = grid_search_elastic.best_score_ \r\n",
        "    print(best_parameters_elastic)\r\n",
        "    print(best_score_elastic)\r\n",
        "elastic_reg(df_train_x, df_train_y, cv=5)"
      ],
      "execution_count": 47,
      "outputs": [
        {
          "output_type": "stream",
          "text": [
            "{'alpha': 0.001, 'normalize': False}\n",
            "-1.2295106110950296\n"
          ],
          "name": "stdout"
        }
      ]
    },
    {
      "cell_type": "code",
      "metadata": {
        "id": "kr_ZX0J6l9Uk"
      },
      "source": [
        "###Linear Regression\r\n",
        "lr_x = LinearRegression(copy_X= True, fit_intercept = True, normalize = True)\r\n",
        "lr_x.fit(df_train_x, df_train_y)\r\n",
        "lr_pred_x= lr_x.predict(df_test_x)\r\n",
        "\r\n",
        "###Ridge\r\n",
        "ridge_x = Ridge(alpha = 0.01, normalize = True)\r\n",
        "ridge_x.fit(df_train_x, df_train_y)           \r\n",
        "pred_ridge_x = ridge_x.predict(df_test_x) \r\n",
        "\r\n",
        "###Lasso\r\n",
        "Lasso_x = Lasso(alpha = 0.001, normalize =False)\r\n",
        "Lasso_x.fit(df_train_x, df_train_y)\r\n",
        "pred_Lasso_x = Lasso_x.predict(df_test_x) \r\n",
        "\r\n",
        "##ElasticNet\r\n",
        "model_enet_x = ElasticNet(alpha = 0.01, normalize=False)\r\n",
        "model_enet_x.fit(df_train_x, df_train_y) \r\n",
        "pred_train_enet_x= model_enet_x.predict(df_train_x)\r\n",
        "pred_test_enet_x= model_enet_x.predict(df_test_x)"
      ],
      "execution_count": 48,
      "outputs": []
    },
    {
      "cell_type": "code",
      "metadata": {
        "id": "WXN1KP7Ti2pu",
        "colab": {
          "base_uri": "https://localhost:8080/"
        },
        "outputId": "e07c30c0-79cd-464d-990b-c5181c7088cd"
      },
      "source": [
        "##Linear Regression\r\n",
        "lr = LinearRegression(copy_X= True, fit_intercept = True, normalize = True)\r\n",
        "lr.fit(df_train_x, df_train_y)\r\n",
        "lr_pred= lr.predict(df_test_x)\r\n",
        "print(lr_pred)\r\n",
        "#Ridge Model\r\n",
        "ridge_model = Ridge(alpha = 0.01, normalize = True)\r\n",
        "ridge_model.fit(df_train_x, df_train_y)             \r\n",
        "pred_ridge = ridge_model.predict(df_test_x) \r\n",
        "print(pred_ridge)\r\n",
        "#Lasso Model\r\n",
        "Lasso_model = Lasso(alpha = 0.001, normalize =False)\r\n",
        "Lasso_model.fit(df_train_x, df_train_y)\r\n",
        "pred_Lasso = Lasso_model.predict(df_test_x) \r\n",
        "\r\n",
        "#ElasticNet Model\r\n",
        "model_enet = ElasticNet(alpha = 0.01, normalize=False)\r\n",
        "model_enet.fit(df_train_x, df_train_y) \r\n",
        "pred_test_enet= model_enet.predict(df_test_x)"
      ],
      "execution_count": 49,
      "outputs": [
        {
          "output_type": "stream",
          "text": [
            "[1.52777094 1.42291576 2.23051739 ... 1.3609061  1.7494195  1.59753737]\n",
            "[1.53730172 1.41802712 2.21503292 ... 1.36036512 1.73778918 1.6162466 ]\n"
          ],
          "name": "stdout"
        }
      ]
    },
    {
      "cell_type": "code",
      "metadata": {
        "colab": {
          "base_uri": "https://localhost:8080/"
        },
        "id": "YpEvmEFioGGs",
        "outputId": "73295a89-0e9b-48c5-a003-8d4b3d086968"
      },
      "source": [
        "predictions=rf_random.predict(df_test_x)\r\n",
        "print(predictions)\r\n",
        "print(type(predictions))"
      ],
      "execution_count": 50,
      "outputs": [
        {
          "output_type": "stream",
          "text": [
            "[1.78400479 1.10098211 1.48693162 ... 1.11607072 1.73789425 1.7621264 ]\n",
            "<class 'numpy.ndarray'>\n"
          ],
          "name": "stdout"
        }
      ]
    },
    {
      "cell_type": "markdown",
      "metadata": {
        "id": "r0p7lZN-sWN3"
      },
      "source": [
        "Mean Absolute Error (MAE) shows the difference between predictions and actual values.\r\n",
        "\r\n",
        "Root Mean Square Error (RMSE) shows how accurately the model predicts the response.\r\n",
        "\r\n",
        "R^2 will be calculated to find the goodness of fit measure."
      ]
    },
    {
      "cell_type": "code",
      "metadata": {
        "id": "9SckcZVwkY8j",
        "colab": {
          "base_uri": "https://localhost:8080/"
        },
        "outputId": "518ce59e-4135-4716-ae7e-dcc68584c2dd"
      },
      "source": [
        "print('---------------DecisionTree-------------------')\r\n",
        "\r\n",
        "print('MAE:', metrics.mean_absolute_error(df_test_y, predictions))\r\n",
        "print('MSE:', metrics.mean_squared_error(df_test_y, predictions))\r\n",
        "print('RMSE:', np.sqrt(metrics.mean_squared_error(df_test_y, predictions)))\r\n",
        "print('R2 %f' % r2_score(df_test_y, predictions))\r\n",
        "print('Accuracy', rf_random.best_score_)\r\n",
        "\r\n",
        "print('---------------Linear ---------------------')\r\n",
        "\r\n",
        "print('--Phase-1--')\r\n",
        "print('MAE: %f'% mean_absolute_error(df_test_y, lr_pred))\r\n",
        "print('RMSE: %f'% np.sqrt(mean_squared_error(df_test_y, lr_pred)))   \r\n",
        "print('R2 %f' % r2_score(df_test_y, lr_pred))\r\n",
        "\r\n",
        "print('--Phase-2--')\r\n",
        "print('MAE: %f'% mean_absolute_error(df_test_y, lr_pred_x))\r\n",
        "print('RMSE: %f'% np.sqrt(mean_squared_error(df_test_y, lr_pred_x)))   \r\n",
        "print('R2 %f' % r2_score(df_test_y, lr_pred_x))\r\n",
        "\r\n",
        "print('---------------Ridge ---------------------')\r\n",
        "\r\n",
        "print('--Phase-1--')\r\n",
        "print('MAE: %f'% mean_absolute_error(df_test_y, pred_ridge))\r\n",
        "print('RMSE: %f'% np.sqrt(mean_squared_error(df_test_y, pred_ridge)))   \r\n",
        "print('R2 %f' % r2_score(df_test_y, pred_ridge))\r\n",
        "\r\n",
        "print('--Phase-2--')\r\n",
        "print('MAE: %f'% mean_absolute_error(df_test_y, pred_ridge_x))\r\n",
        "print('RMSE: %f'% np.sqrt(mean_squared_error(df_test_y, pred_ridge_x)))   \r\n",
        "print('R2 %f' % r2_score(df_test_y, pred_ridge_x))\r\n",
        "\r\n",
        "print('---------------Lasso-----------------------')\r\n",
        "\r\n",
        "print('--Phase-1--')\r\n",
        "print('MAE: %f' % mean_absolute_error(df_test_y, pred_Lasso))\r\n",
        "print('RMSE: %f' % np.sqrt(mean_squared_error(df_test_y, pred_Lasso)))\r\n",
        "print('R2 %f' % r2_score(df_test_y, pred_Lasso))\r\n",
        "\r\n",
        "print('--Phase-2--')\r\n",
        "print('MAE: %f' % mean_absolute_error(df_test_y, pred_Lasso_x))\r\n",
        "print('RMSE: %f' % np.sqrt(mean_squared_error(df_test_y, pred_Lasso_x)))\r\n",
        "print('R2 %f' % r2_score(df_test_y, pred_Lasso_x))\r\n",
        "\r\n",
        "print('---------------ElasticNet-------------------')\r\n",
        "\r\n",
        "print('--Phase-1 --')\r\n",
        "print('MAE: %f' % mean_absolute_error(df_test_y,pred_test_enet)) #RMSE\r\n",
        "print('RMSE: %f' % np.sqrt(mean_squared_error(df_test_y,pred_test_enet))) #RMSE\r\n",
        "print('R2 %f' % r2_score(df_test_y, pred_test_enet))\r\n",
        "\r\n",
        "print('--Phase-2--')\r\n",
        "print('MAE: %f' % mean_absolute_error(df_test_y,pred_test_enet_x)) #RMSE\r\n",
        "print('RMSE: %f' % np.sqrt(mean_squared_error(df_test_y,pred_test_enet_x))) #RMSE\r\n",
        "print('R2 %f' % r2_score(df_test_y, pred_test_enet_x))\r\n",
        "\r\n",
        "# ---------------DecisionTree-------------------\r\n",
        "# MAE: 0.7604437239900941\r\n",
        "# MSE: 0.9557163104321913\r\n",
        "# RMSE: 0.9776074418866662\r\n",
        "# R2 0.339332\r\n"
      ],
      "execution_count": 51,
      "outputs": [
        {
          "output_type": "stream",
          "text": [
            "---------------DecisionTree-------------------\n",
            "MAE: 0.7606538641621097\n",
            "MSE: 0.9561492143230277\n",
            "RMSE: 0.9778288266987365\n",
            "R2 0.339032\n",
            "Accuracy -0.9328513487582233\n",
            "---------------Linear ---------------------\n",
            "--Phase-1--\n",
            "MAE: 0.938703\n",
            "RMSE: 1.087538\n",
            "R2 0.182396\n",
            "--Phase-2--\n",
            "MAE: 0.938703\n",
            "RMSE: 1.087538\n",
            "R2 0.182396\n",
            "---------------Ridge ---------------------\n",
            "--Phase-1--\n",
            "MAE: 0.939518\n",
            "RMSE: 1.087467\n",
            "R2 0.182502\n",
            "--Phase-2--\n",
            "MAE: 0.939518\n",
            "RMSE: 1.087467\n",
            "R2 0.182502\n",
            "---------------Lasso-----------------------\n",
            "--Phase-1--\n",
            "MAE: 0.938836\n",
            "RMSE: 1.087608\n",
            "R2 0.182291\n",
            "--Phase-2--\n",
            "MAE: 0.938836\n",
            "RMSE: 1.087608\n",
            "R2 0.182291\n",
            "---------------ElasticNet-------------------\n",
            "--Phase-1 --\n",
            "MAE: 0.939612\n",
            "RMSE: 1.088210\n",
            "R2 0.181384\n",
            "--Phase-2--\n",
            "MAE: 0.939612\n",
            "RMSE: 1.088210\n",
            "R2 0.181384\n"
          ],
          "name": "stdout"
        }
      ]
    },
    {
      "cell_type": "markdown",
      "metadata": {
        "id": "CIG8o1xDsfbi"
      },
      "source": [
        "The MAE value of 0 indicates no error on the model. In other words, there is a perfect prediction. The above results show that all predictions have great error especially in phase 2.\r\n",
        "RMSE gives an idea of how much error the system typically makes in its predictions. The above results show that all models with each phase have significant errors.\r\n",
        "R2 represents the proportion of the variance for a dependent variable that's explained by an independent variable. \r\n",
        "\r\n",
        "#From the above Result I can Choose Decision Trees"
      ]
    },
    {
      "cell_type": "code",
      "metadata": {
        "colab": {
          "base_uri": "https://localhost:8080/"
        },
        "id": "nZZ8MmKgo4KZ",
        "outputId": "656e52ca-9f2b-409f-bc4d-389cac578e67"
      },
      "source": [
        "import math\r\n",
        "predictions = np.array(predictions)\r\n",
        "for i in range(len(predictions)):\r\n",
        "  predictions[i]= 10**predictions[i]\r\n",
        "# predictions = math.exp(predictions)\r\n",
        "predictions\r\n"
      ],
      "execution_count": 52,
      "outputs": [
        {
          "output_type": "execute_result",
          "data": {
            "text/plain": [
              "array([60.81417054, 12.61775543, 30.68538823, ..., 13.06383611,\n",
              "       54.68827836, 57.82643237])"
            ]
          },
          "metadata": {
            "tags": []
          },
          "execution_count": 52
        }
      ]
    },
    {
      "cell_type": "code",
      "metadata": {
        "colab": {
          "base_uri": "https://localhost:8080/"
        },
        "id": "G4LK3Btgeg-Z",
        "outputId": "65c7d5b1-c461-4bc1-8ced-0341f516d7f2"
      },
      "source": [
        "predictions = np.array(predictions)\r\n",
        "predictions"
      ],
      "execution_count": 53,
      "outputs": [
        {
          "output_type": "execute_result",
          "data": {
            "text/plain": [
              "array([60.81417054, 12.61775543, 30.68538823, ..., 13.06383611,\n",
              "       54.68827836, 57.82643237])"
            ]
          },
          "metadata": {
            "tags": []
          },
          "execution_count": 53
        }
      ]
    },
    {
      "cell_type": "code",
      "metadata": {
        "colab": {
          "base_uri": "https://localhost:8080/",
          "height": 402
        },
        "id": "o7wJQ8__Tuvz",
        "outputId": "d5f193c4-394c-4c0d-e5ad-24c0d4f0670c"
      },
      "source": [
        "data\r\n",
        "id = data['id']\r\n",
        "df_save = pd.DataFrame({'price': predictions})\r\n",
        "df_save['id']  = id\r\n",
        "df_save"
      ],
      "execution_count": 54,
      "outputs": [
        {
          "output_type": "execute_result",
          "data": {
            "text/html": [
              "<div>\n",
              "<style scoped>\n",
              "    .dataframe tbody tr th:only-of-type {\n",
              "        vertical-align: middle;\n",
              "    }\n",
              "\n",
              "    .dataframe tbody tr th {\n",
              "        vertical-align: top;\n",
              "    }\n",
              "\n",
              "    .dataframe thead th {\n",
              "        text-align: right;\n",
              "    }\n",
              "</style>\n",
              "<table border=\"1\" class=\"dataframe\">\n",
              "  <thead>\n",
              "    <tr style=\"text-align: right;\">\n",
              "      <th></th>\n",
              "      <th>price</th>\n",
              "      <th>id</th>\n",
              "    </tr>\n",
              "  </thead>\n",
              "  <tbody>\n",
              "    <tr>\n",
              "      <th>0</th>\n",
              "      <td>60.814171</td>\n",
              "      <td>392779</td>\n",
              "    </tr>\n",
              "    <tr>\n",
              "      <th>1</th>\n",
              "      <td>12.617755</td>\n",
              "      <td>12456183</td>\n",
              "    </tr>\n",
              "    <tr>\n",
              "      <th>2</th>\n",
              "      <td>30.685388</td>\n",
              "      <td>1851863</td>\n",
              "    </tr>\n",
              "    <tr>\n",
              "      <th>3</th>\n",
              "      <td>55.064379</td>\n",
              "      <td>23309878</td>\n",
              "    </tr>\n",
              "    <tr>\n",
              "      <th>4</th>\n",
              "      <td>4.059813</td>\n",
              "      <td>10768347</td>\n",
              "    </tr>\n",
              "    <tr>\n",
              "      <th>...</th>\n",
              "      <td>...</td>\n",
              "      <td>...</td>\n",
              "    </tr>\n",
              "    <tr>\n",
              "      <th>1729</th>\n",
              "      <td>31.170606</td>\n",
              "      <td>19350610</td>\n",
              "    </tr>\n",
              "    <tr>\n",
              "      <th>1730</th>\n",
              "      <td>18.649622</td>\n",
              "      <td>7886656</td>\n",
              "    </tr>\n",
              "    <tr>\n",
              "      <th>1731</th>\n",
              "      <td>13.063836</td>\n",
              "      <td>3535171</td>\n",
              "    </tr>\n",
              "    <tr>\n",
              "      <th>1732</th>\n",
              "      <td>54.688278</td>\n",
              "      <td>27930170</td>\n",
              "    </tr>\n",
              "    <tr>\n",
              "      <th>1733</th>\n",
              "      <td>57.826432</td>\n",
              "      <td>20256234</td>\n",
              "    </tr>\n",
              "  </tbody>\n",
              "</table>\n",
              "<p>1734 rows × 2 columns</p>\n",
              "</div>"
            ],
            "text/plain": [
              "          price        id\n",
              "0     60.814171    392779\n",
              "1     12.617755  12456183\n",
              "2     30.685388   1851863\n",
              "3     55.064379  23309878\n",
              "4      4.059813  10768347\n",
              "...         ...       ...\n",
              "1729  31.170606  19350610\n",
              "1730  18.649622   7886656\n",
              "1731  13.063836   3535171\n",
              "1732  54.688278  27930170\n",
              "1733  57.826432  20256234\n",
              "\n",
              "[1734 rows x 2 columns]"
            ]
          },
          "metadata": {
            "tags": []
          },
          "execution_count": 54
        }
      ]
    },
    {
      "cell_type": "code",
      "metadata": {
        "colab": {
          "base_uri": "https://localhost:8080/",
          "height": 284
        },
        "id": "sVupALIQk0ey",
        "outputId": "9c1bc56c-4ae5-4fb8-819c-71cc0b3efbe7"
      },
      "source": [
        "df_save.describe()"
      ],
      "execution_count": 55,
      "outputs": [
        {
          "output_type": "execute_result",
          "data": {
            "text/html": [
              "<div>\n",
              "<style scoped>\n",
              "    .dataframe tbody tr th:only-of-type {\n",
              "        vertical-align: middle;\n",
              "    }\n",
              "\n",
              "    .dataframe tbody tr th {\n",
              "        vertical-align: top;\n",
              "    }\n",
              "\n",
              "    .dataframe thead th {\n",
              "        text-align: right;\n",
              "    }\n",
              "</style>\n",
              "<table border=\"1\" class=\"dataframe\">\n",
              "  <thead>\n",
              "    <tr style=\"text-align: right;\">\n",
              "      <th></th>\n",
              "      <th>price</th>\n",
              "      <th>id</th>\n",
              "    </tr>\n",
              "  </thead>\n",
              "  <tbody>\n",
              "    <tr>\n",
              "      <th>count</th>\n",
              "      <td>1734.000000</td>\n",
              "      <td>1.734000e+03</td>\n",
              "    </tr>\n",
              "    <tr>\n",
              "      <th>mean</th>\n",
              "      <td>218.283952</td>\n",
              "      <td>1.807491e+07</td>\n",
              "    </tr>\n",
              "    <tr>\n",
              "      <th>std</th>\n",
              "      <td>676.283143</td>\n",
              "      <td>9.052766e+06</td>\n",
              "    </tr>\n",
              "    <tr>\n",
              "      <th>min</th>\n",
              "      <td>1.491596</td>\n",
              "      <td>2.318000e+03</td>\n",
              "    </tr>\n",
              "    <tr>\n",
              "      <th>25%</th>\n",
              "      <td>14.194901</td>\n",
              "      <td>1.125773e+07</td>\n",
              "    </tr>\n",
              "    <tr>\n",
              "      <th>50%</th>\n",
              "      <td>34.564116</td>\n",
              "      <td>2.005960e+07</td>\n",
              "    </tr>\n",
              "    <tr>\n",
              "      <th>75%</th>\n",
              "      <td>105.715578</td>\n",
              "      <td>2.519135e+07</td>\n",
              "    </tr>\n",
              "    <tr>\n",
              "      <th>max</th>\n",
              "      <td>8957.407101</td>\n",
              "      <td>3.223937e+07</td>\n",
              "    </tr>\n",
              "  </tbody>\n",
              "</table>\n",
              "</div>"
            ],
            "text/plain": [
              "             price            id\n",
              "count  1734.000000  1.734000e+03\n",
              "mean    218.283952  1.807491e+07\n",
              "std     676.283143  9.052766e+06\n",
              "min       1.491596  2.318000e+03\n",
              "25%      14.194901  1.125773e+07\n",
              "50%      34.564116  2.005960e+07\n",
              "75%     105.715578  2.519135e+07\n",
              "max    8957.407101  3.223937e+07"
            ]
          },
          "metadata": {
            "tags": []
          },
          "execution_count": 55
        }
      ]
    },
    {
      "cell_type": "code",
      "metadata": {
        "id": "-7cpiXNVifTW"
      },
      "source": [
        "df_save.to_csv (r'/content/export_dataframe.csv', index = False, header=True)"
      ],
      "execution_count": 56,
      "outputs": []
    }
  ]
}